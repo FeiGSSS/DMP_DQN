{
 "cells": [
  {
   "cell_type": "markdown",
   "metadata": {},
   "source": [
    "# 测试学好的Q函数是否能表现得很好\n",
    "\n",
    "实现目标：\n",
    "\n",
    "1. 创建Agent， 并加载学习好的Q_net\n",
    "2. 创建测试数据，使其可以分别输入IMM和Agent"
   ]
  },
  {
   "cell_type": "code",
   "execution_count": 1,
   "metadata": {},
   "outputs": [],
   "source": [
    "from Agent import Agent\n",
    "from Env import env"
   ]
  },
  {
   "cell_type": "markdown",
   "metadata": {},
   "source": [
    "## 1. 加载Agent "
   ]
  },
  {
   "cell_type": "code",
   "execution_count": 2,
   "metadata": {},
   "outputs": [],
   "source": [
    "agent = Agent(test=True)\n",
    "agent.load_Q_net(\"Q_net.model\")"
   ]
  },
  {
   "cell_type": "markdown",
   "metadata": {},
   "source": [
    "## 2.  数据生成\n",
    "\n",
    "测试数据与训练数据同分布"
   ]
  },
  {
   "cell_type": "code",
   "execution_count": 3,
   "metadata": {},
   "outputs": [],
   "source": [
    "from torch_geometric.data import Data\n",
    "import torch\n",
    "import numpy as np\n",
    "import networkx as nx"
   ]
  },
  {
   "cell_type": "markdown",
   "metadata": {},
   "source": [
    "## 3. Simulation "
   ]
  },
  {
   "cell_type": "code",
   "execution_count": 4,
   "metadata": {},
   "outputs": [],
   "source": [
    "def simulation_once(edge_index, edge_w, seed_list):\n",
    "    import networkx as nx\n",
    "    import ndlib.models.ModelConfig as mc\n",
    "    import ndlib.models.epidemics as ep\n",
    "    \n",
    "    G = nx.DiGraph()\n",
    "    G.add_edges_from(edge_index.T)\n",
    "    \n",
    "    model = ep.IndependentCascadesModel(G)\n",
    "    \n",
    "    # Model Configuration\n",
    "    config = mc.Configuration()\n",
    "    config.add_model_initial_configuration(\"Infected\", seed_list)\n",
    "    \n",
    "    # Setting the edge parameters\n",
    "    for e, w in zip(G.edges(), edge_w):\n",
    "        config.add_edge_configuration(\"threshold\", e, w)\n",
    "    \n",
    "    model.set_initial_status(config)\n",
    "    \n",
    "    while True:\n",
    "        iteration = model.iteration()\n",
    "        if iteration[\"node_count\"][1] == 0:\n",
    "            break\n",
    "    \n",
    "    return iteration[\"node_count\"][2]"
   ]
  },
  {
   "cell_type": "code",
   "execution_count": 5,
   "metadata": {},
   "outputs": [],
   "source": [
    "def simulation(edge_index, edge_w, seed_list, mc=100):\n",
    "    from tqdm import tqdm\n",
    "    import numpy as np\n",
    "    from multiprocessing import Pool\n",
    "    \n",
    "    pool = Pool(50)\n",
    "    spreads = []\n",
    "    res = []\n",
    "    for i in range(mc):\n",
    "        res.append(pool.apply_async(simulation_once, (edge_index, edge_w, seed_list, )))\n",
    "    \n",
    "    pool.close()\n",
    "    pool.join()\n",
    "    \n",
    "    for r in tqdm(res):\n",
    "        spreads.append(r.get())\n",
    "    return np.mean(spreads)"
   ]
  },
  {
   "cell_type": "markdown",
   "metadata": {},
   "source": [
    "## 3. 方法比较 "
   ]
  },
  {
   "cell_type": "code",
   "execution_count": 6,
   "metadata": {},
   "outputs": [],
   "source": [
    "def Q_infer(agent, graph, K):\n",
    "    Seed = []\n",
    "    for i in range(K):\n",
    "        action = agent.choose_action(graph)\n",
    "        Seed.append(action)\n",
    "        graph.x[action] = 1\n",
    "        \n",
    "    return Seed"
   ]
  },
  {
   "cell_type": "code",
   "execution_count": 7,
   "metadata": {},
   "outputs": [],
   "source": [
    "def before_IMM(edge_index, edge_w):\n",
    "    import os\n",
    "    import time\n",
    "    G = nx.DiGraph()\n",
    "    G.add_edges_from(edge_index.T)\n",
    "    with open(\".imm_cache/attribute.txt\", \"w\") as f:\n",
    "        f.writelines(\"n={}\\nm={}\".format(G.number_of_nodes(), G.number_of_edges()))\n",
    "    with open(\".imm_cache/graph_ic.inf\", \"w\") as f:\n",
    "        for edge, weight in zip(edge_index.T, edge_w):\n",
    "            f.writelines(\"{} {} {:.3f}\\n\".format(edge[0], edge[1], weight[0]))"
   ]
  },
  {
   "cell_type": "code",
   "execution_count": 8,
   "metadata": {},
   "outputs": [],
   "source": [
    "def IMM_infer(K):\n",
    "    imm_red = os.popen(\"./IMM/imm_discrete -dataset .imm_cache/ -k {} -model IC -epsilon 0.1\".format(K))\n",
    "    \n",
    "    Seed = []\n",
    "    Spread = 0\n",
    "    for line in imm_red:\n",
    "        if \"opt_lower_bound\" in line:\n",
    "            Spread = float(line.split(\"=\")[1].strip())\n",
    "        if \"seedSet\" in line:\n",
    "            seed_set = line.split(\"=\")[1].strip().split(\" \")\n",
    "            Seed = [int(s) for s in seed_set]\n",
    "    \n",
    "    return Seed, Spread"
   ]
  },
  {
   "cell_type": "markdown",
   "metadata": {},
   "source": [
    "### 测试1， 相同大小的网络"
   ]
  },
  {
   "cell_type": "code",
   "execution_count": 9,
   "metadata": {},
   "outputs": [],
   "source": [
    "import matplotlib.pyplot as plt"
   ]
  },
  {
   "cell_type": "code",
   "execution_count": 10,
   "metadata": {},
   "outputs": [],
   "source": [
    "# ER graph\n",
    "Env = env(graph_size=1000, seed_size=10, edge_weight=0.15, random_edge_weight=True)\n",
    "\n",
    "edge_index, edge_weight, x, _ = Env.reset()\n",
    "graph = Data(edge_index = torch.LongTensor(edge_index),\n",
    "             edge_weight = torch.Tensor(edge_weight),\n",
    "             x = torch.Tensor(x))"
   ]
  },
  {
   "cell_type": "code",
   "execution_count": 11,
   "metadata": {
    "scrolled": false
   },
   "outputs": [
    {
     "ename": "NameError",
     "evalue": "name 'os' is not defined",
     "output_type": "error",
     "traceback": [
      "\u001b[0;31m---------------------------------------------------------------------------\u001b[0m",
      "\u001b[0;31mNameError\u001b[0m                                 Traceback (most recent call last)",
      "\u001b[0;32m<ipython-input-11-03d121a72473>\u001b[0m in \u001b[0;36m<module>\u001b[0;34m\u001b[0m\n\u001b[1;32m      5\u001b[0m \u001b[0;34m\u001b[0m\u001b[0m\n\u001b[1;32m      6\u001b[0m \u001b[0;32mfor\u001b[0m \u001b[0mK\u001b[0m \u001b[0;32min\u001b[0m \u001b[0mK_range\u001b[0m\u001b[0;34m:\u001b[0m\u001b[0;34m\u001b[0m\u001b[0;34m\u001b[0m\u001b[0m\n\u001b[0;32m----> 7\u001b[0;31m     \u001b[0mimm_seed\u001b[0m\u001b[0;34m,\u001b[0m \u001b[0mimm_spread\u001b[0m \u001b[0;34m=\u001b[0m \u001b[0mIMM_infer\u001b[0m\u001b[0;34m(\u001b[0m\u001b[0mK\u001b[0m\u001b[0;34m=\u001b[0m\u001b[0mK\u001b[0m\u001b[0;34m)\u001b[0m\u001b[0;34m\u001b[0m\u001b[0;34m\u001b[0m\u001b[0m\n\u001b[0m\u001b[1;32m      8\u001b[0m     \u001b[0mq_seed\u001b[0m \u001b[0;34m=\u001b[0m \u001b[0mQ_infer\u001b[0m\u001b[0;34m(\u001b[0m\u001b[0magent\u001b[0m\u001b[0;34m,\u001b[0m \u001b[0mgraph\u001b[0m\u001b[0;34m,\u001b[0m \u001b[0mK\u001b[0m\u001b[0;34m=\u001b[0m\u001b[0mK\u001b[0m\u001b[0;34m)\u001b[0m\u001b[0;34m\u001b[0m\u001b[0;34m\u001b[0m\u001b[0m\n\u001b[1;32m      9\u001b[0m \u001b[0;34m\u001b[0m\u001b[0m\n",
      "\u001b[0;32m<ipython-input-8-da267ac3f684>\u001b[0m in \u001b[0;36mIMM_infer\u001b[0;34m(K)\u001b[0m\n\u001b[1;32m      1\u001b[0m \u001b[0;32mdef\u001b[0m \u001b[0mIMM_infer\u001b[0m\u001b[0;34m(\u001b[0m\u001b[0mK\u001b[0m\u001b[0;34m)\u001b[0m\u001b[0;34m:\u001b[0m\u001b[0;34m\u001b[0m\u001b[0;34m\u001b[0m\u001b[0m\n\u001b[0;32m----> 2\u001b[0;31m     \u001b[0mimm_red\u001b[0m \u001b[0;34m=\u001b[0m \u001b[0mos\u001b[0m\u001b[0;34m.\u001b[0m\u001b[0mpopen\u001b[0m\u001b[0;34m(\u001b[0m\u001b[0;34m\"./IMM/imm_discrete -dataset .imm_cache/ -k {} -model IC -epsilon 0.1\"\u001b[0m\u001b[0;34m.\u001b[0m\u001b[0mformat\u001b[0m\u001b[0;34m(\u001b[0m\u001b[0mK\u001b[0m\u001b[0;34m)\u001b[0m\u001b[0;34m)\u001b[0m\u001b[0;34m\u001b[0m\u001b[0;34m\u001b[0m\u001b[0m\n\u001b[0m\u001b[1;32m      3\u001b[0m \u001b[0;34m\u001b[0m\u001b[0m\n\u001b[1;32m      4\u001b[0m     \u001b[0mSeed\u001b[0m \u001b[0;34m=\u001b[0m \u001b[0;34m[\u001b[0m\u001b[0;34m]\u001b[0m\u001b[0;34m\u001b[0m\u001b[0;34m\u001b[0m\u001b[0m\n\u001b[1;32m      5\u001b[0m     \u001b[0mSpread\u001b[0m \u001b[0;34m=\u001b[0m \u001b[0;36m0\u001b[0m\u001b[0;34m\u001b[0m\u001b[0;34m\u001b[0m\u001b[0m\n",
      "\u001b[0;31mNameError\u001b[0m: name 'os' is not defined"
     ]
    }
   ],
   "source": [
    "IMM_K = []\n",
    "Q_K = []\n",
    "K_range = [1, 100, 200, 300]\n",
    "before_IMM(edge_index, edge_weight)\n",
    "\n",
    "for K in K_range:\n",
    "    imm_seed, imm_spread = IMM_infer(K=K)\n",
    "    q_seed = Q_infer(agent, graph, K=K)\n",
    "\n",
    "    imm_simu = simulation(edge_index, edge_weight, imm_seed, mc=500)\n",
    "    q_simu = simulation(edge_index, edge_weight, q_seed, mc=500)\n",
    "    print(imm_simu, q_simu)\n",
    "    \n",
    "    IMM_K.append((imm_seed, imm_simu))\n",
    "    Q_K.append((q_seed, q_simu))\n",
    "    \n",
    "\n",
    "plt.plot(K_range, [s[1] for s in IMM_K], \"-*\")\n",
    "plt.plot(K_range, [s[1] for s in Q_K], \"-*\")\n",
    "plt.grid(True)\n",
    "plt.show()"
   ]
  },
  {
   "cell_type": "markdown",
   "metadata": {},
   "source": [
    "# 在真实的数据上测试 "
   ]
  },
  {
   "cell_type": "code",
   "execution_count": 121,
   "metadata": {},
   "outputs": [],
   "source": [
    "def load_data(path):\n",
    "    edge_index = []\n",
    "    edge_weight = []\n",
    "    n = m = 0\n",
    "    with open(path, \"r\") as f:\n",
    "        for line in f:\n",
    "            line_list = line.strip().split(\" \")\n",
    "            if len(line_list) == 2:\n",
    "                n, m = [int(x) for x in line_list]\n",
    "            else:\n",
    "                edge_index.append([int(x) for x in line_list[:2]])\n",
    "                edge_weight.append([float(line_list[-1])])\n",
    "    return n, m, np.array(edge_index).T, np.array(edge_weight)"
   ]
  },
  {
   "cell_type": "code",
   "execution_count": 122,
   "metadata": {},
   "outputs": [],
   "source": [
    "n, m, edge_index, edge_weight = load_data(\"./data/Twitter.txt\")"
   ]
  },
  {
   "cell_type": "code",
   "execution_count": 123,
   "metadata": {},
   "outputs": [],
   "source": [
    "twitter = Data(edge_index = torch.LongTensor(edge_index),\n",
    "               edge_weight = torch.Tensor(edge_weight),\n",
    "               x = torch.zeros((n,1)))"
   ]
  },
  {
   "cell_type": "code",
   "execution_count": 124,
   "metadata": {},
   "outputs": [
    {
     "name": "stderr",
     "output_type": "stream",
     "text": [
      "100%|██████████| 50/50 [00:00<00:00, 124756.22it/s]\n",
      "100%|██████████| 50/50 [00:00<00:00, 129935.07it/s]\n"
     ]
    },
    {
     "name": "stdout",
     "output_type": "stream",
     "text": [
      "17485.56 7693.88\n"
     ]
    },
    {
     "name": "stderr",
     "output_type": "stream",
     "text": [
      "100%|██████████| 50/50 [00:00<00:00, 162948.87it/s]\n",
      "100%|██████████| 50/50 [00:00<00:00, 127023.14it/s]\n"
     ]
    },
    {
     "name": "stdout",
     "output_type": "stream",
     "text": [
      "18032.7 17535.92\n"
     ]
    },
    {
     "name": "stderr",
     "output_type": "stream",
     "text": [
      "100%|██████████| 50/50 [00:00<00:00, 119837.26it/s]\n",
      "100%|██████████| 50/50 [00:00<00:00, 136355.79it/s]\n"
     ]
    },
    {
     "name": "stdout",
     "output_type": "stream",
     "text": [
      "18744.84 17564.76\n"
     ]
    },
    {
     "name": "stderr",
     "output_type": "stream",
     "text": [
      "100%|██████████| 50/50 [00:00<00:00, 168716.98it/s]\n",
      "100%|██████████| 50/50 [00:00<00:00, 94211.68it/s]"
     ]
    },
    {
     "name": "stdout",
     "output_type": "stream",
     "text": [
      "19440.66 17515.06\n"
     ]
    },
    {
     "name": "stderr",
     "output_type": "stream",
     "text": [
      "\n"
     ]
    },
    {
     "data": {
      "image/png": "[encoded data removed]",
      "text/plain": [
       "<Figure size 432x288 with 1 Axes>"
      ]
     },
     "metadata": {
      "needs_background": "light"
     },
     "output_type": "display_data"
    }
   ],
   "source": [
    "IMM_K = []\n",
    "Q_K = []\n",
    "K_range = [1, 100, 200, 300]\n",
    "before_IMM(edge_index, edge_weight)\n",
    "\n",
    "for K in K_range:\n",
    "    imm_seed, imm_spread = IMM_infer(K=K)\n",
    "    q_seed = Q_infer(agent, twitter, K=K)\n",
    "\n",
    "    imm_simu = simulation(edge_index, edge_weight, imm_seed, mc=50)\n",
    "    q_simu = simulation(edge_index, edge_weight, q_seed, mc=50)\n",
    "    print(imm_simu, q_simu)\n",
    "    \n",
    "    IMM_K.append((imm_seed, imm_simu))\n",
    "    Q_K.append((q_seed, q_simu))\n",
    "    \n",
    "\n",
    "plt.plot(K_range, [s[1] for s in IMM_K], \"-*\")\n",
    "plt.plot(K_range, [s[1] for s in Q_K], \"-*\")\n",
    "plt.grid(True)\n",
    "plt.show()"
   ]
  },
  {
   "cell_type": "code",
   "execution_count": 133,
   "metadata": {},
   "outputs": [
    {
     "name": "stderr",
     "output_type": "stream",
     "text": [
      "100%|██████████| 50/50 [00:00<00:00, 128109.47it/s]\n"
     ]
    },
    {
     "data": {
      "text/plain": [
       "17625.8"
      ]
     },
     "execution_count": 133,
     "metadata": {},
     "output_type": "execute_result"
    }
   ],
   "source": [
    "simulation(edge_index, edge_weight, imm_seed, mc=50)"
   ]
  },
  {
   "cell_type": "code",
   "execution_count": 134,
   "metadata": {},
   "outputs": [
    {
     "name": "stderr",
     "output_type": "stream",
     "text": [
      "100%|██████████| 50/50 [00:00<00:00, 155000.15it/s]\n"
     ]
    },
    {
     "data": {
      "text/plain": [
       "17571.24"
      ]
     },
     "execution_count": 134,
     "metadata": {},
     "output_type": "execute_result"
    }
   ],
   "source": [
    "simulation(edge_index, edge_weight, q_seed, mc=50)"
   ]
  },
  {
   "cell_type": "code",
   "execution_count": 129,
   "metadata": {},
   "outputs": [],
   "source": [
    "imm_seed, imm_spread = IMM_infer(K=10)"
   ]
  },
  {
   "cell_type": "code",
   "execution_count": 130,
   "metadata": {},
   "outputs": [],
   "source": [
    "q_seed = Q_infer(agent, twitter, K=10)"
   ]
  },
  {
   "cell_type": "code",
   "execution_count": 131,
   "metadata": {},
   "outputs": [
    {
     "data": {
      "text/plain": [
       "[2969, 1328, 1550, 663, 24446, 17488, 3687, 5242, 1327, 123]"
      ]
     },
     "execution_count": 131,
     "metadata": {},
     "output_type": "execute_result"
    }
   ],
   "source": [
    "imm_seed"
   ]
  },
  {
   "cell_type": "code",
   "execution_count": 132,
   "metadata": {},
   "outputs": [
    {
     "data": {
      "text/plain": [
       "[113, 2593, 5031, 7446, 32945, 46272, 845, 9987, 1903, 6232]"
      ]
     },
     "execution_count": 132,
     "metadata": {},
     "output_type": "execute_result"
    }
   ],
   "source": [
    "q_seed"
   ]
  },
  {
   "cell_type": "code",
   "execution_count": 126,
   "metadata": {},
   "outputs": [
    {
     "data": {
      "text/plain": [
       "[([63], 7693.88),\n",
       " ([548,\n",
       "   90,\n",
       "   78,\n",
       "   1,\n",
       "   880,\n",
       "   1739,\n",
       "   603,\n",
       "   437,\n",
       "   436,\n",
       "   3702,\n",
       "   1758,\n",
       "   7508,\n",
       "   326,\n",
       "   447,\n",
       "   8785,\n",
       "   683,\n",
       "   56,\n",
       "   30,\n",
       "   2599,\n",
       "   5026,\n",
       "   5,\n",
       "   554,\n",
       "   1328,\n",
       "   101,\n",
       "   1422,\n",
       "   3644,\n",
       "   3582,\n",
       "   3642,\n",
       "   9,\n",
       "   2969,\n",
       "   87,\n",
       "   572,\n",
       "   1751,\n",
       "   5000,\n",
       "   1550,\n",
       "   1752,\n",
       "   151,\n",
       "   2630,\n",
       "   8787,\n",
       "   2787,\n",
       "   900,\n",
       "   1335,\n",
       "   1214,\n",
       "   448,\n",
       "   4189,\n",
       "   42,\n",
       "   1303,\n",
       "   133,\n",
       "   2604,\n",
       "   2591,\n",
       "   1423,\n",
       "   9348,\n",
       "   4366,\n",
       "   1142,\n",
       "   1807,\n",
       "   1327,\n",
       "   2700,\n",
       "   6198,\n",
       "   2651,\n",
       "   896,\n",
       "   1131,\n",
       "   10010,\n",
       "   1151,\n",
       "   2678,\n",
       "   3687,\n",
       "   579,\n",
       "   1733,\n",
       "   2588,\n",
       "   3121,\n",
       "   7422,\n",
       "   3710,\n",
       "   9672,\n",
       "   9690,\n",
       "   3665,\n",
       "   3697,\n",
       "   3704,\n",
       "   938,\n",
       "   2623,\n",
       "   1325,\n",
       "   9673,\n",
       "   1449,\n",
       "   7872,\n",
       "   6177,\n",
       "   320,\n",
       "   3711,\n",
       "   1154,\n",
       "   5016,\n",
       "   510,\n",
       "   1772,\n",
       "   10,\n",
       "   40,\n",
       "   106,\n",
       "   19682,\n",
       "   4428,\n",
       "   139,\n",
       "   36,\n",
       "   4484,\n",
       "   21672,\n",
       "   322,\n",
       "   2674],\n",
       "  17535.92),\n",
       " ([14260,\n",
       "   15665,\n",
       "   719,\n",
       "   1740,\n",
       "   378,\n",
       "   580,\n",
       "   499,\n",
       "   1334,\n",
       "   23,\n",
       "   24349,\n",
       "   3886,\n",
       "   81,\n",
       "   94,\n",
       "   15,\n",
       "   28,\n",
       "   19729,\n",
       "   59,\n",
       "   184,\n",
       "   19727,\n",
       "   13,\n",
       "   54,\n",
       "   156,\n",
       "   35,\n",
       "   18,\n",
       "   165,\n",
       "   3,\n",
       "   153,\n",
       "   19749,\n",
       "   92,\n",
       "   19746,\n",
       "   9699,\n",
       "   610,\n",
       "   9693,\n",
       "   5024,\n",
       "   39,\n",
       "   1863,\n",
       "   16,\n",
       "   24,\n",
       "   2415,\n",
       "   6218,\n",
       "   692,\n",
       "   1711,\n",
       "   2618,\n",
       "   8172,\n",
       "   1330,\n",
       "   8764,\n",
       "   449,\n",
       "   50,\n",
       "   21658,\n",
       "   2705,\n",
       "   142,\n",
       "   89,\n",
       "   76,\n",
       "   82,\n",
       "   45,\n",
       "   19700,\n",
       "   173,\n",
       "   3633,\n",
       "   451,\n",
       "   3706,\n",
       "   9689,\n",
       "   4297,\n",
       "   9727,\n",
       "   9692,\n",
       "   541,\n",
       "   1168,\n",
       "   2580,\n",
       "   2672,\n",
       "   44,\n",
       "   21668,\n",
       "   560,\n",
       "   1355,\n",
       "   6216,\n",
       "   19711,\n",
       "   19731,\n",
       "   1643,\n",
       "   3755,\n",
       "   9767,\n",
       "   5002,\n",
       "   595,\n",
       "   325,\n",
       "   4345,\n",
       "   3660,\n",
       "   6262,\n",
       "   23168,\n",
       "   3105,\n",
       "   674,\n",
       "   2239,\n",
       "   2637,\n",
       "   1432,\n",
       "   494,\n",
       "   5004,\n",
       "   32,\n",
       "   1409,\n",
       "   1435,\n",
       "   627,\n",
       "   5001,\n",
       "   4,\n",
       "   8763,\n",
       "   2619,\n",
       "   29084,\n",
       "   1329,\n",
       "   8808,\n",
       "   16284,\n",
       "   18582,\n",
       "   20165,\n",
       "   49,\n",
       "   2654,\n",
       "   1336,\n",
       "   316,\n",
       "   19709,\n",
       "   2687,\n",
       "   2720,\n",
       "   2431,\n",
       "   435,\n",
       "   2342,\n",
       "   3658,\n",
       "   24359,\n",
       "   9899,\n",
       "   4995,\n",
       "   21649,\n",
       "   3666,\n",
       "   1768,\n",
       "   3674,\n",
       "   3859,\n",
       "   83,\n",
       "   19696,\n",
       "   2621,\n",
       "   3523,\n",
       "   4127,\n",
       "   2602,\n",
       "   110,\n",
       "   9819,\n",
       "   16264,\n",
       "   46,\n",
       "   902,\n",
       "   100,\n",
       "   123,\n",
       "   2475,\n",
       "   1186,\n",
       "   19720,\n",
       "   21463,\n",
       "   21719,\n",
       "   1356,\n",
       "   1766,\n",
       "   15168,\n",
       "   7230,\n",
       "   498,\n",
       "   21184,\n",
       "   5190,\n",
       "   85,\n",
       "   1947,\n",
       "   468,\n",
       "   4482,\n",
       "   818,\n",
       "   3724,\n",
       "   6761,\n",
       "   27571,\n",
       "   15786,\n",
       "   40116,\n",
       "   5588,\n",
       "   23205,\n",
       "   107,\n",
       "   4292,\n",
       "   2616,\n",
       "   24353,\n",
       "   4356,\n",
       "   4566,\n",
       "   2585,\n",
       "   19745,\n",
       "   33333,\n",
       "   7211,\n",
       "   318,\n",
       "   1415,\n",
       "   9904,\n",
       "   2275,\n",
       "   10063,\n",
       "   9199,\n",
       "   505,\n",
       "   23184,\n",
       "   4431,\n",
       "   23488,\n",
       "   1482,\n",
       "   3834,\n",
       "   501,\n",
       "   2413,\n",
       "   2615,\n",
       "   10365,\n",
       "   2276,\n",
       "   2646,\n",
       "   2,\n",
       "   9718,\n",
       "   4344,\n",
       "   678,\n",
       "   2662,\n",
       "   47002,\n",
       "   61,\n",
       "   17407,\n",
       "   3722,\n",
       "   5023],\n",
       "  17564.76),\n",
       " ([9708,\n",
       "   502,\n",
       "   693,\n",
       "   1896,\n",
       "   1749,\n",
       "   2620,\n",
       "   1403,\n",
       "   1867,\n",
       "   1881,\n",
       "   3719,\n",
       "   9738,\n",
       "   19714,\n",
       "   23460,\n",
       "   3663,\n",
       "   3664,\n",
       "   25679,\n",
       "   23476,\n",
       "   863,\n",
       "   714,\n",
       "   19732,\n",
       "   344,\n",
       "   79,\n",
       "   3047,\n",
       "   4558,\n",
       "   32513,\n",
       "   67,\n",
       "   112,\n",
       "   1369,\n",
       "   75,\n",
       "   3381,\n",
       "   3670,\n",
       "   4470,\n",
       "   19680,\n",
       "   23462,\n",
       "   9726,\n",
       "   3085,\n",
       "   8792,\n",
       "   11,\n",
       "   2633,\n",
       "   19717,\n",
       "   23464,\n",
       "   38950,\n",
       "   46938,\n",
       "   2853,\n",
       "   8,\n",
       "   8638,\n",
       "   5005,\n",
       "   0,\n",
       "   65,\n",
       "   111,\n",
       "   24505,\n",
       "   41745,\n",
       "   64,\n",
       "   8741,\n",
       "   850,\n",
       "   7682,\n",
       "   19785,\n",
       "   457,\n",
       "   24031,\n",
       "   8606,\n",
       "   23474,\n",
       "   23478,\n",
       "   6169,\n",
       "   43621,\n",
       "   20166,\n",
       "   20,\n",
       "   604,\n",
       "   24363,\n",
       "   32517,\n",
       "   1396,\n",
       "   70,\n",
       "   1776,\n",
       "   2790,\n",
       "   4733,\n",
       "   20181,\n",
       "   1726,\n",
       "   3465,\n",
       "   19741,\n",
       "   7943,\n",
       "   4437,\n",
       "   6174,\n",
       "   8777,\n",
       "   8748,\n",
       "   21670,\n",
       "   23085,\n",
       "   2459,\n",
       "   4478,\n",
       "   9687,\n",
       "   1219,\n",
       "   39194,\n",
       "   24333,\n",
       "   3097,\n",
       "   36443,\n",
       "   276,\n",
       "   51219,\n",
       "   2774,\n",
       "   4131,\n",
       "   6709,\n",
       "   3270,\n",
       "   5057,\n",
       "   1391,\n",
       "   24346,\n",
       "   24338,\n",
       "   2640,\n",
       "   2706,\n",
       "   30654,\n",
       "   1632,\n",
       "   2677,\n",
       "   19755,\n",
       "   134,\n",
       "   9685,\n",
       "   8800,\n",
       "   23259,\n",
       "   11146,\n",
       "   124,\n",
       "   128,\n",
       "   23463,\n",
       "   1771,\n",
       "   5597,\n",
       "   8659,\n",
       "   21913,\n",
       "   121,\n",
       "   9681,\n",
       "   23179,\n",
       "   1162,\n",
       "   10732,\n",
       "   3672,\n",
       "   74,\n",
       "   1718,\n",
       "   71,\n",
       "   23480,\n",
       "   3534,\n",
       "   19693,\n",
       "   24679,\n",
       "   8817,\n",
       "   23492,\n",
       "   542,\n",
       "   3209,\n",
       "   23467,\n",
       "   58,\n",
       "   3645,\n",
       "   12,\n",
       "   55,\n",
       "   319,\n",
       "   8740,\n",
       "   6230,\n",
       "   3506,\n",
       "   8804,\n",
       "   27902,\n",
       "   66,\n",
       "   4274,\n",
       "   6723,\n",
       "   1812,\n",
       "   21683,\n",
       "   27075,\n",
       "   35880,\n",
       "   8644,\n",
       "   5039,\n",
       "   317,\n",
       "   16262,\n",
       "   144,\n",
       "   9717,\n",
       "   18571,\n",
       "   19691,\n",
       "   3716,\n",
       "   9346,\n",
       "   9691,\n",
       "   24188,\n",
       "   15661,\n",
       "   9713,\n",
       "   32971,\n",
       "   43873,\n",
       "   3655,\n",
       "   21930,\n",
       "   5806,\n",
       "   6199,\n",
       "   549,\n",
       "   1304,\n",
       "   2631,\n",
       "   4133,\n",
       "   20183,\n",
       "   29392,\n",
       "   43,\n",
       "   1892,\n",
       "   7835,\n",
       "   3341,\n",
       "   27858,\n",
       "   11009,\n",
       "   28455,\n",
       "   4303,\n",
       "   17394,\n",
       "   19744,\n",
       "   35090,\n",
       "   6544,\n",
       "   32539,\n",
       "   9768,\n",
       "   41,\n",
       "   15200,\n",
       "   1906,\n",
       "   36447,\n",
       "   331,\n",
       "   4199,\n",
       "   11060,\n",
       "   5015,\n",
       "   15175,\n",
       "   8163,\n",
       "   21921,\n",
       "   9719,\n",
       "   4332,\n",
       "   7665,\n",
       "   19768,\n",
       "   1307,\n",
       "   3640,\n",
       "   21,\n",
       "   1734,\n",
       "   30656,\n",
       "   30680,\n",
       "   4463,\n",
       "   12087,\n",
       "   5603,\n",
       "   6217,\n",
       "   21647,\n",
       "   32770,\n",
       "   1421,\n",
       "   23187,\n",
       "   9985,\n",
       "   1927,\n",
       "   6703,\n",
       "   24710,\n",
       "   1822,\n",
       "   19704,\n",
       "   11966,\n",
       "   15937,\n",
       "   35101,\n",
       "   25,\n",
       "   2446,\n",
       "   19757,\n",
       "   25506,\n",
       "   3675,\n",
       "   27928,\n",
       "   8632,\n",
       "   20193,\n",
       "   21917,\n",
       "   44531,\n",
       "   34,\n",
       "   44321,\n",
       "   23459,\n",
       "   937,\n",
       "   30745,\n",
       "   22336,\n",
       "   5025,\n",
       "   9709,\n",
       "   185,\n",
       "   9686,\n",
       "   27058,\n",
       "   137,\n",
       "   9682,\n",
       "   562,\n",
       "   2584,\n",
       "   8607,\n",
       "   44333,\n",
       "   11190,\n",
       "   9705,\n",
       "   10015,\n",
       "   24367,\n",
       "   24373,\n",
       "   453,\n",
       "   4498,\n",
       "   23512,\n",
       "   80,\n",
       "   57,\n",
       "   8821,\n",
       "   38,\n",
       "   1274,\n",
       "   2517,\n",
       "   6201,\n",
       "   15934,\n",
       "   115,\n",
       "   9707,\n",
       "   9741,\n",
       "   2632,\n",
       "   22366,\n",
       "   5019,\n",
       "   36639,\n",
       "   22355,\n",
       "   9711,\n",
       "   2590,\n",
       "   4358,\n",
       "   29,\n",
       "   9426,\n",
       "   45846,\n",
       "   19411,\n",
       "   9743,\n",
       "   2661,\n",
       "   4352,\n",
       "   29079,\n",
       "   24528,\n",
       "   29070,\n",
       "   26,\n",
       "   4219],\n",
       "  17515.06)]"
      ]
     },
     "execution_count": 126,
     "metadata": {},
     "output_type": "execute_result"
    }
   ],
   "source": [
    "Q_K"
   ]
  },
  {
   "cell_type": "code",
   "execution_count": 105,
   "metadata": {},
   "outputs": [],
   "source": [
    "before_IMM(edge_index, edge_weight)"
   ]
  },
  {
   "cell_type": "code",
   "execution_count": 112,
   "metadata": {},
   "outputs": [
    {
     "name": "stdout",
     "output_type": "stream",
     "text": [
      "[2969, 1328, 1550, 663, 24446, 17488, 3687, 5242, 1327, 123]\n",
      "CPU times: user 2.23 ms, sys: 82.2 ms, total: 84.4 ms\n",
      "Wall time: 4.81 s\n"
     ]
    }
   ],
   "source": [
    "%%time\n",
    "imm_seed, imm_spread = IMM_infer(K=10)\n",
    "print(imm_seed)"
   ]
  },
  {
   "cell_type": "code",
   "execution_count": 113,
   "metadata": {},
   "outputs": [
    {
     "name": "stdout",
     "output_type": "stream",
     "text": [
      "[326, 447, 8785, 683, 56, 30, 2599, 5026, 5, 554]\n",
      "CPU times: user 4.62 s, sys: 312 ms, total: 4.94 s\n",
      "Wall time: 1.64 s\n"
     ]
    }
   ],
   "source": [
    "%%time\n",
    "q_seed = Q_infer(agent, twitter, K=10)\n",
    "print(q_seed)"
   ]
  },
  {
   "cell_type": "code",
   "execution_count": null,
   "metadata": {},
   "outputs": [],
   "source": []
  }
 ],
 "metadata": {
  "kernelspec": {
   "display_name": "Python 3",
   "language": "python",
   "name": "python3"
  },
  "language_info": {
   "codemirror_mode": {
    "name": "ipython",
    "version": 3
   },
   "file_extension": ".py",
   "mimetype": "text/x-python",
   "name": "python",
   "nbconvert_exporter": "python",
   "pygments_lexer": "ipython3",
   "version": "3.6.12"
  }
 },
 "nbformat": 4,
 "nbformat_minor": 4
}
