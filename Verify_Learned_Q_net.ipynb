{
 "cells": [
  {
   "cell_type": "markdown",
   "metadata": {},
   "source": [
    "# 测试学好的Q函数是否能表现得很好\n",
    "\n",
    "实现目标：\n",
    "\n",
    "1. 创建Agent， 并加载学习好的Q_net\n",
    "2. 创建测试数据，使其可以分别输入IMM和Agent"
   ]
  },
  {
   "cell_type": "code",
   "execution_count": 1,
   "metadata": {},
   "outputs": [],
   "source": [
    "import torch_geometric as tg"
   ]
  },
  {
   "cell_type": "code",
   "execution_count": 2,
   "metadata": {},
   "outputs": [],
   "source": [
    "from Agent import Agent\n",
    "from Env import env\n",
    "\n",
    "import os"
   ]
  },
  {
   "cell_type": "markdown",
   "metadata": {},
   "source": [
    "## 1. 加载Agent "
   ]
  },
  {
   "cell_type": "code",
   "execution_count": 3,
   "metadata": {},
   "outputs": [],
   "source": [
    "agent = Agent(test=True)\n",
    "agent.load_Q_net(\"checkpoints/Q_net.model\")"
   ]
  },
  {
   "cell_type": "markdown",
   "metadata": {},
   "source": [
    "## 2.  数据生成\n",
    "\n",
    "测试数据与训练数据同分布"
   ]
  },
  {
   "cell_type": "code",
   "execution_count": 4,
   "metadata": {},
   "outputs": [],
   "source": [
    "from torch_geometric.data import Data\n",
    "import torch\n",
    "import numpy as np\n",
    "import networkx as nx"
   ]
  },
  {
   "cell_type": "markdown",
   "metadata": {},
   "source": [
    "## 3. Simulation "
   ]
  },
  {
   "cell_type": "code",
   "execution_count": 5,
   "metadata": {},
   "outputs": [],
   "source": [
    "def simulation_once(edge_index, edge_w, seed_list):\n",
    "    import networkx as nx\n",
    "    import ndlib.models.ModelConfig as mc\n",
    "    import ndlib.models.epidemics as ep\n",
    "    \n",
    "    G = nx.DiGraph()\n",
    "    G.add_edges_from(edge_index.T)\n",
    "    \n",
    "    model = ep.IndependentCascadesModel(G)\n",
    "    \n",
    "    # Model Configuration\n",
    "    config = mc.Configuration()\n",
    "    config.add_model_initial_configuration(\"Infected\", seed_list)\n",
    "    \n",
    "    # Setting the edge parameters\n",
    "    for e, w in zip(G.edges(), edge_w):\n",
    "        config.add_edge_configuration(\"threshold\", e, w)\n",
    "    \n",
    "    model.set_initial_status(config)\n",
    "    \n",
    "    while True:\n",
    "        iteration = model.iteration()\n",
    "        if iteration[\"node_count\"][1] == 0:\n",
    "            break\n",
    "    \n",
    "    return iteration[\"node_count\"][2]"
   ]
  },
  {
   "cell_type": "code",
   "execution_count": 6,
   "metadata": {},
   "outputs": [],
   "source": [
    "def simulation(edge_index, edge_w, seed_list, mc=100):\n",
    "    from tqdm import tqdm\n",
    "    import numpy as np\n",
    "    from multiprocessing import Pool\n",
    "    \n",
    "    pool = Pool(50)\n",
    "    spreads = []\n",
    "    res = []\n",
    "    for i in range(mc):\n",
    "        res.append(pool.apply_async(simulation_once, (edge_index, edge_w, seed_list, )))\n",
    "    \n",
    "    pool.close()\n",
    "    pool.join()\n",
    "    \n",
    "    for r in tqdm(res):\n",
    "        spreads.append(r.get())\n",
    "    return np.mean(spreads)"
   ]
  },
  {
   "cell_type": "markdown",
   "metadata": {},
   "source": [
    "## 3. 方法比较 "
   ]
  },
  {
   "cell_type": "code",
   "execution_count": 7,
   "metadata": {},
   "outputs": [],
   "source": [
    "def Q_infer(agent, graph, K):\n",
    "    Seed = []\n",
    "    for i in range(K):\n",
    "        action = agent.choose_action(graph)\n",
    "        Seed.append(action)\n",
    "        graph.x[action] = 1\n",
    "        \n",
    "    return Seed"
   ]
  },
  {
   "cell_type": "code",
   "execution_count": 8,
   "metadata": {},
   "outputs": [],
   "source": [
    "def before_IMM(edge_index, edge_w):\n",
    "    import os\n",
    "    import time\n",
    "    G = nx.DiGraph()\n",
    "    G.add_edges_from(edge_index.T)\n",
    "    with open(\".imm_cache/attribute.txt\", \"w\") as f:\n",
    "        f.writelines(\"n={}\\nm={}\".format(G.number_of_nodes(), G.number_of_edges()))\n",
    "    with open(\".imm_cache/graph_ic.inf\", \"w\") as f:\n",
    "        for edge, weight in zip(edge_index.T, edge_w):\n",
    "            f.writelines(\"{} {} {:.3f}\\n\".format(edge[0], edge[1], weight[0]))"
   ]
  },
  {
   "cell_type": "code",
   "execution_count": 9,
   "metadata": {},
   "outputs": [],
   "source": [
    "def IMM_infer(K):\n",
    "    imm_red = os.popen(\"./IMM/imm_discrete -dataset .imm_cache/ -k {} -model IC -epsilon 0.1\".format(K))\n",
    "    \n",
    "    Seed = []\n",
    "    Spread = 0\n",
    "    for line in imm_red:\n",
    "        if \"opt_lower_bound\" in line:\n",
    "            Spread = float(line.split(\"=\")[1].strip())\n",
    "        if \"seedSet\" in line:\n",
    "            seed_set = line.split(\"=\")[1].strip().split(\" \")\n",
    "            Seed = [int(s) for s in seed_set]\n",
    "    \n",
    "    return Seed, Spread"
   ]
  },
  {
   "cell_type": "markdown",
   "metadata": {},
   "source": [
    "### 测试1， 相同大小的网络"
   ]
  },
  {
   "cell_type": "code",
   "execution_count": 10,
   "metadata": {},
   "outputs": [],
   "source": [
    "import matplotlib.pyplot as plt"
   ]
  },
  {
   "cell_type": "code",
   "execution_count": 65,
   "metadata": {
    "scrolled": false
   },
   "outputs": [
    {
     "name": "stderr",
     "output_type": "stream",
     "text": [
      "100%|██████████| 500/500 [00:00<00:00, 240996.55it/s]\n",
      "100%|██████████| 500/500 [00:00<00:00, 266643.61it/s]\n",
      "100%|██████████| 500/500 [00:00<00:00, 217411.57it/s]\n"
     ]
    },
    {
     "name": "stdout",
     "output_type": "stream",
     "text": [
      "171.676 172.034 168.766\n"
     ]
    },
    {
     "name": "stderr",
     "output_type": "stream",
     "text": [
      "100%|██████████| 500/500 [00:00<00:00, 260774.93it/s]\n",
      "100%|██████████| 500/500 [00:00<00:00, 230862.18it/s]\n",
      "100%|██████████| 500/500 [00:00<00:00, 243204.45it/s]\n"
     ]
    },
    {
     "name": "stdout",
     "output_type": "stream",
     "text": [
      "226.498 214.354 214.704\n"
     ]
    },
    {
     "name": "stderr",
     "output_type": "stream",
     "text": [
      "100%|██████████| 500/500 [00:00<00:00, 257857.13it/s]\n",
      "100%|██████████| 500/500 [00:00<00:00, 255034.90it/s]\n",
      "100%|██████████| 500/500 [00:00<00:00, 255034.90it/s]\n"
     ]
    },
    {
     "name": "stdout",
     "output_type": "stream",
     "text": [
      "249.878 235.896 237.81\n"
     ]
    },
    {
     "name": "stderr",
     "output_type": "stream",
     "text": [
      "100%|██████████| 500/500 [00:00<00:00, 260483.42it/s]\n",
      "100%|██████████| 500/500 [00:00<00:00, 231269.52it/s]\n",
      "100%|██████████| 500/500 [00:00<00:00, 207515.54it/s]\n"
     ]
    },
    {
     "name": "stdout",
     "output_type": "stream",
     "text": [
      "269.83 254.396 257.48\n"
     ]
    },
    {
     "name": "stderr",
     "output_type": "stream",
     "text": [
      "100%|██████████| 500/500 [00:00<00:00, 196897.19it/s]\n",
      "100%|██████████| 500/500 [00:00<00:00, 230659.04it/s]\n",
      "100%|██████████| 500/500 [00:00<00:00, 244679.97it/s]"
     ]
    },
    {
     "name": "stdout",
     "output_type": "stream",
     "text": [
      "286.81 269.71 273.016\n"
     ]
    },
    {
     "name": "stderr",
     "output_type": "stream",
     "text": [
      "\n"
     ]
    }
   ],
   "source": [
    "# ER graph\n",
    "Env = env(graph_size=1000, seed_size=10, edge_weight=0.1, random_edge_weight=False)\n",
    "\n",
    "edge_index, edge_weight, x, _ = Env.reset()\n",
    "graph = Data(edge_index = torch.LongTensor(edge_index),\n",
    "             edge_weight = torch.Tensor(edge_weight),\n",
    "             x = torch.Tensor(x))\n",
    "\n",
    "IMM_K = []\n",
    "Q_K = []\n",
    "Random_K = []\n",
    "\n",
    "K_range = range(1, 50,10)\n",
    "before_IMM(edge_index, edge_weight)\n",
    "degree = tg.utils.degree(graph.edge_index[0]).int().numpy()\n",
    "node_by_degree = degree.argsort().tolist()[::-1]\n",
    "Q_seed = Q_infer(agent, graph, K=50)\n",
    "\n",
    "for K in K_range:\n",
    "    \n",
    "    random_seed = node_by_degree[:K]\n",
    "    imm_seed, imm_spread = IMM_infer(K=K)\n",
    "    q_seed = Q_seed[:K]\n",
    "\n",
    "    imm_simu = simulation(edge_index, edge_weight, imm_seed, mc=500)\n",
    "    random_simu = simulation(edge_index, edge_weight, random_seed, mc=500)\n",
    "    q_simu = simulation(edge_index, edge_weight, q_seed, mc=500)\n",
    "    print(imm_simu, q_simu, random_simu)\n",
    "    \n",
    "    IMM_K.append((imm_seed, imm_simu))\n",
    "    Q_K.append((q_seed, q_simu))\n",
    "    Random_K.append((random_seed, random_simu))\n",
    "    \n"
   ]
  },
  {
   "cell_type": "code",
   "execution_count": 66,
   "metadata": {},
   "outputs": [
    {
     "data": {
      "image/png": "[encoded data removed]",
      "text/plain": [
       "<Figure size 432x288 with 1 Axes>"
      ]
     },
     "metadata": {
      "needs_background": "light"
     },
     "output_type": "display_data"
    }
   ],
   "source": [
    "plt.plot(K_range, [s[1] for s in IMM_K], \"-*\")\n",
    "plt.plot(K_range, [s[1] for s in Q_K], \"-*\")\n",
    "plt.plot(K_range, [s[1] for s in Random_K], \"-*\")\n",
    "plt.legend([\"IMM\", \"DQN\", \"Degree\"])\n",
    "plt.grid(True)\n",
    "plt.show()"
   ]
  },
  {
   "cell_type": "code",
   "execution_count": 67,
   "metadata": {},
   "outputs": [
    {
     "data": {
      "text/plain": [
       "[1, 2, 5, 11, 29, 38, 55, 59, 98, 134, 135]"
      ]
     },
     "execution_count": 67,
     "metadata": {},
     "output_type": "execute_result"
    }
   ],
   "source": [
    "sorted(IMM_K[1][0])"
   ]
  },
  {
   "cell_type": "code",
   "execution_count": 68,
   "metadata": {},
   "outputs": [
    {
     "data": {
      "text/plain": [
       "[0, 1, 3, 4, 5, 7, 8, 9, 10, 11, 13]"
      ]
     },
     "execution_count": 68,
     "metadata": {},
     "output_type": "execute_result"
    }
   ],
   "source": [
    "sorted(Q_K[1][0])"
   ]
  },
  {
   "cell_type": "code",
   "execution_count": 69,
   "metadata": {},
   "outputs": [
    {
     "data": {
      "text/plain": [
       "[0, 1, 3, 4, 5, 7, 8, 9, 10, 11, 34]"
      ]
     },
     "execution_count": 69,
     "metadata": {},
     "output_type": "execute_result"
    }
   ],
   "source": [
    "sorted(Random_K[1][0])"
   ]
  },
  {
   "cell_type": "markdown",
   "metadata": {},
   "source": [
    "# 在真实的数据上测试 "
   ]
  },
  {
   "cell_type": "code",
   "execution_count": 19,
   "metadata": {},
   "outputs": [],
   "source": [
    "def load_data(path):\n",
    "    edge_index = []\n",
    "    edge_weight = []\n",
    "    n = m = 0\n",
    "    with open(path, \"r\") as f:\n",
    "        for line in f:\n",
    "            line_list = line.strip().split(\" \")\n",
    "            if len(line_list) == 2:\n",
    "                n, m = [int(x) for x in line_list]\n",
    "            else:\n",
    "                edge_index.append([int(x) for x in line_list[:2]])\n",
    "                edge_weight.append([float(line_list[-1])])\n",
    "    return n, m, np.array(edge_index).T, np.array(edge_weight)"
   ]
  },
  {
   "cell_type": "code",
   "execution_count": 20,
   "metadata": {},
   "outputs": [],
   "source": [
    "n, m, edge_index, edge_weight = load_data(\"./data/Twitter.txt\")"
   ]
  },
  {
   "cell_type": "code",
   "execution_count": 21,
   "metadata": {},
   "outputs": [],
   "source": [
    "graph = Data(edge_index = torch.LongTensor(edge_index),\n",
    "               edge_weight = torch.Tensor(edge_weight),\n",
    "               x = torch.zeros((n,1)))"
   ]
  },
  {
   "cell_type": "code",
   "execution_count": 22,
   "metadata": {},
   "outputs": [
    {
     "name": "stderr",
     "output_type": "stream",
     "text": [
      "100%|██████████| 50/50 [00:00<00:00, 109340.56it/s]\n",
      "100%|██████████| 50/50 [00:00<00:00, 119974.37it/s]\n",
      "100%|██████████| 50/50 [00:00<00:00, 69580.36it/s]\n"
     ]
    },
    {
     "name": "stdout",
     "output_type": "stream",
     "text": [
      "17505.24 6697.36 17428.52\n"
     ]
    },
    {
     "name": "stderr",
     "output_type": "stream",
     "text": [
      "100%|██████████| 50/50 [00:00<00:00, 160332.72it/s]\n",
      "100%|██████████| 50/50 [00:00<00:00, 105067.74it/s]\n",
      "100%|██████████| 50/50 [00:00<00:00, 160701.30it/s]\n"
     ]
    },
    {
     "name": "stdout",
     "output_type": "stream",
     "text": [
      "17458.92 17535.28 17539.78\n"
     ]
    },
    {
     "name": "stderr",
     "output_type": "stream",
     "text": [
      "100%|██████████| 50/50 [00:00<00:00, 158156.26it/s]\n",
      "100%|██████████| 50/50 [00:00<00:00, 113114.99it/s]\n",
      "100%|██████████| 50/50 [00:00<00:00, 136711.34it/s]\n"
     ]
    },
    {
     "name": "stdout",
     "output_type": "stream",
     "text": [
      "17638.38 17419.42 17648.4\n"
     ]
    },
    {
     "name": "stderr",
     "output_type": "stream",
     "text": [
      "100%|██████████| 50/50 [00:00<00:00, 142372.84it/s]\n",
      "100%|██████████| 50/50 [00:00<00:00, 122856.00it/s]\n",
      "100%|██████████| 50/50 [00:00<00:00, 134778.41it/s]\n"
     ]
    },
    {
     "name": "stdout",
     "output_type": "stream",
     "text": [
      "17783.0 17654.56 17601.48\n"
     ]
    },
    {
     "name": "stderr",
     "output_type": "stream",
     "text": [
      "100%|██████████| 50/50 [00:00<00:00, 84836.25it/s]\n",
      "100%|██████████| 50/50 [00:00<00:00, 171616.37it/s]\n",
      "100%|██████████| 50/50 [00:00<00:00, 135825.91it/s]\n"
     ]
    },
    {
     "name": "stdout",
     "output_type": "stream",
     "text": [
      "17866.92 17540.4 17532.4\n"
     ]
    },
    {
     "name": "stderr",
     "output_type": "stream",
     "text": [
      "100%|██████████| 50/50 [00:00<00:00, 152631.15it/s]\n",
      "100%|██████████| 50/50 [00:00<00:00, 74978.62it/s]\n",
      "100%|██████████| 50/50 [00:00<00:00, 162192.73it/s]"
     ]
    },
    {
     "name": "stdout",
     "output_type": "stream",
     "text": [
      "18099.9 17489.68 17462.9\n"
     ]
    },
    {
     "name": "stderr",
     "output_type": "stream",
     "text": [
      "\n"
     ]
    },
    {
     "data": {
      "image/png": "[encoded data removed]",
      "text/plain": [
       "<Figure size 432x288 with 1 Axes>"
      ]
     },
     "metadata": {
      "needs_background": "light"
     },
     "output_type": "display_data"
    }
   ],
   "source": [
    "IMM_K = []\n",
    "Q_K = []\n",
    "Random_K = []\n",
    "\n",
    "K_range = [1, 5, 10, 40, 80, 100]\n",
    "before_IMM(edge_index, edge_weight)\n",
    "degree = tg.utils.degree(graph.edge_index[0]).int().numpy()\n",
    "node_by_degree = degree.argsort().tolist()[::-1]\n",
    "\n",
    "for K in K_range:\n",
    "    random_seed = node_by_degree[:K]\n",
    "    imm_seed, imm_spread = IMM_infer(K=K)\n",
    "    q_seed = Q_infer(agent, graph, K=K)\n",
    "\n",
    "    imm_simu = simulation(edge_index, edge_weight, imm_seed, mc=50)\n",
    "    random_simu = simulation(edge_index, edge_weight, random_seed, mc=50)\n",
    "    q_simu = simulation(edge_index, edge_weight, q_seed, mc=50)\n",
    "    print(imm_simu, q_simu, random_simu)\n",
    "    \n",
    "    IMM_K.append((imm_seed, imm_simu))\n",
    "    Q_K.append((q_seed, q_simu))\n",
    "    Random_K.append((random_seed, random_simu))\n",
    "    \n",
    "\n",
    "plt.plot(K_range, [s[1] for s in IMM_K], \"-*\")\n",
    "plt.plot(K_range, [s[1] for s in Q_K], \"-*\")\n",
    "plt.plot(K_range, [s[1] for s in Random_K], \"-*\")\n",
    "plt.grid(True)\n",
    "plt.show()"
   ]
  },
  {
   "cell_type": "code",
   "execution_count": 18,
   "metadata": {},
   "outputs": [
    {
     "name": "stderr",
     "output_type": "stream",
     "text": [
      "100%|██████████| 50/50 [00:00<00:00, 18105.43it/s]\n",
      "100%|██████████| 50/50 [00:00<00:00, 126334.46it/s]\n",
      "100%|██████████| 50/50 [00:00<00:00, 142955.15it/s]\n"
     ]
    },
    {
     "name": "stdout",
     "output_type": "stream",
     "text": [
      "246.26 37.62 264.86\n"
     ]
    },
    {
     "name": "stderr",
     "output_type": "stream",
     "text": [
      "100%|██████████| 50/50 [00:00<00:00, 158275.62it/s]\n",
      "100%|██████████| 50/50 [00:00<00:00, 187413.05it/s]\n",
      "100%|██████████| 50/50 [00:00<00:00, 122425.69it/s]\n"
     ]
    },
    {
     "name": "stdout",
     "output_type": "stream",
     "text": [
      "609.48 254.72 430.2\n"
     ]
    },
    {
     "name": "stderr",
     "output_type": "stream",
     "text": [
      "100%|██████████| 50/50 [00:00<00:00, 117487.51it/s]\n",
      "100%|██████████| 50/50 [00:00<00:00, 100246.27it/s]\n",
      "100%|██████████| 50/50 [00:00<00:00, 131565.37it/s]\n"
     ]
    },
    {
     "name": "stdout",
     "output_type": "stream",
     "text": [
      "691.78 387.44 623.22\n"
     ]
    },
    {
     "name": "stderr",
     "output_type": "stream",
     "text": [
      "100%|██████████| 50/50 [00:00<00:00, 142372.84it/s]\n",
      "100%|██████████| 50/50 [00:00<00:00, 127797.20it/s]\n",
      "100%|██████████| 50/50 [00:00<00:00, 167772.16it/s]\n"
     ]
    },
    {
     "name": "stdout",
     "output_type": "stream",
     "text": [
      "1004.78 739.0 989.5\n"
     ]
    },
    {
     "name": "stderr",
     "output_type": "stream",
     "text": [
      "100%|██████████| 50/50 [00:00<00:00, 122497.20it/s]\n",
      "100%|██████████| 50/50 [00:00<00:00, 118016.43it/s]\n",
      "100%|██████████| 50/50 [00:00<00:00, 161567.95it/s]\n"
     ]
    },
    {
     "name": "stdout",
     "output_type": "stream",
     "text": [
      "1282.08 939.72 1178.96\n"
     ]
    },
    {
     "name": "stderr",
     "output_type": "stream",
     "text": [
      "100%|██████████| 50/50 [00:00<00:00, 122425.69it/s]\n",
      "100%|██████████| 50/50 [00:00<00:00, 159479.24it/s]\n",
      "100%|██████████| 50/50 [00:00<00:00, 113605.20it/s]"
     ]
    },
    {
     "name": "stdout",
     "output_type": "stream",
     "text": [
      "1415.2 1007.72 1268.88\n"
     ]
    },
    {
     "name": "stderr",
     "output_type": "stream",
     "text": [
      "\n"
     ]
    },
    {
     "data": {
      "image/png": "[encoded data removed]",
      "text/plain": [
       "<Figure size 432x288 with 1 Axes>"
      ]
     },
     "metadata": {
      "needs_background": "light"
     },
     "output_type": "display_data"
    }
   ],
   "source": [
    "IMM_K = []\n",
    "Q_K = []\n",
    "Random_K = []\n",
    "\n",
    "K_range = [1, 5, 10, 40, 80, 100]\n",
    "before_IMM(edge_index, edge_weight)\n",
    "degree = tg.utils.degree(graph.edge_index[0]).int().numpy()\n",
    "node_by_degree = degree.argsort().tolist()[::-1]\n",
    "\n",
    "for K in K_range:\n",
    "    random_seed = node_by_degree[:K]\n",
    "    imm_seed, imm_spread = IMM_infer(K=K)\n",
    "    q_seed = Q_infer(agent, graph, K=K)\n",
    "\n",
    "    imm_simu = simulation(edge_index, edge_weight, imm_seed, mc=50)\n",
    "    random_simu = simulation(edge_index, edge_weight, random_seed, mc=50)\n",
    "    q_simu = simulation(edge_index, edge_weight, q_seed, mc=50)\n",
    "    print(imm_simu, q_simu, random_simu)\n",
    "    \n",
    "    IMM_K.append((imm_seed, imm_simu))\n",
    "    Q_K.append((q_seed, q_simu))\n",
    "    Random_K.append((random_seed, random_simu))\n",
    "    \n",
    "\n",
    "plt.plot(K_range, [s[1] for s in IMM_K], \"-*\")\n",
    "plt.plot(K_range, [s[1] for s in Q_K], \"-*\")\n",
    "plt.plot(K_range, [s[1] for s in Random_K], \"-*\")\n",
    "plt.grid(True)\n",
    "plt.show()"
   ]
  },
  {
   "cell_type": "code",
   "execution_count": null,
   "metadata": {},
   "outputs": [],
   "source": []
  }
 ],
 "metadata": {
  "kernelspec": {
   "display_name": "Python 3",
   "language": "python",
   "name": "python3"
  },
  "language_info": {
   "codemirror_mode": {
    "name": "ipython",
    "version": 3
   },
   "file_extension": ".py",
   "mimetype": "text/x-python",
   "name": "python",
   "nbconvert_exporter": "python",
   "pygments_lexer": "ipython3",
   "version": "3.6.12"
  }
 },
 "nbformat": 4,
 "nbformat_minor": 4
}
