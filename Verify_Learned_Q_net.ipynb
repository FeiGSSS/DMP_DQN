{
 "cells": [
  {
   "cell_type": "markdown",
   "metadata": {},
   "source": [
    "# 测试学好的Q函数是否能表现得很好\n",
    "\n",
    "实现目标：\n",
    "\n",
    "1. 创建Agent， 并加载学习好的Q_net\n",
    "2. 创建测试数据，使其可以分别输入IMM和Agent"
   ]
  },
  {
   "cell_type": "code",
   "execution_count": 196,
   "metadata": {},
   "outputs": [],
   "source": [
    "from Agent import Agent\n",
    "from Env import env"
   ]
  },
  {
   "cell_type": "markdown",
   "metadata": {},
   "source": [
    "## 1. 加载Agent "
   ]
  },
  {
   "cell_type": "code",
   "execution_count": 201,
   "metadata": {},
   "outputs": [],
   "source": [
    "agent = Agent(T=5, cuda_id=3, test=True)\n",
    "agent.load_Q_net(\"Q_net.model\")"
   ]
  },
  {
   "cell_type": "markdown",
   "metadata": {},
   "source": [
    "## 2.  数据生成\n",
    "\n",
    "测试数据与训练数据同分布"
   ]
  },
  {
   "cell_type": "code",
   "execution_count": 174,
   "metadata": {},
   "outputs": [],
   "source": [
    "from torch_geometric.data import Data\n",
    "import torch\n",
    "import numpy as np\n",
    "import networkx as nx"
   ]
  },
  {
   "cell_type": "markdown",
   "metadata": {},
   "source": [
    "## 3. Simulation "
   ]
  },
  {
   "cell_type": "code",
   "execution_count": 159,
   "metadata": {},
   "outputs": [],
   "source": [
    "def simulation_once(edge_index, edge_w, seed_list):\n",
    "    import networkx as nx\n",
    "    import ndlib.models.ModelConfig as mc\n",
    "    import ndlib.models.epidemics as ep\n",
    "    \n",
    "    G = nx.DiGraph()\n",
    "    G.add_edges_from(edge_index.T)\n",
    "    \n",
    "    model = ep.IndependentCascadesModel(G)\n",
    "    \n",
    "    # Model Configuration\n",
    "    config = mc.Configuration()\n",
    "    config.add_model_initial_configuration(\"Infected\", seed_list)\n",
    "    \n",
    "    # Setting the edge parameters\n",
    "    for e, w in zip(G.edges(), edge_w):\n",
    "        config.add_edge_configuration(\"threshold\", e, w)\n",
    "    \n",
    "    model.set_initial_status(config)\n",
    "    \n",
    "    while True:\n",
    "        iteration = model.iteration()\n",
    "        if iteration[\"node_count\"][1] == 0:\n",
    "            break\n",
    "    \n",
    "    return iteration[\"node_count\"][2]"
   ]
  },
  {
   "cell_type": "code",
   "execution_count": 160,
   "metadata": {},
   "outputs": [],
   "source": [
    "def simulation(edge_index, edge_w, seed_list, mc=100):\n",
    "    from tqdm import tqdm\n",
    "    import numpy as np\n",
    "    spreads = []\n",
    "    for i in tqdm(range(mc)):\n",
    "        spreads.append(simulation_once(edge_index, edge_w, seed_list))\n",
    "        \n",
    "    return np.mean(spreads)"
   ]
  },
  {
   "cell_type": "markdown",
   "metadata": {},
   "source": [
    "## 3. 方法比较 "
   ]
  },
  {
   "cell_type": "code",
   "execution_count": 161,
   "metadata": {},
   "outputs": [],
   "source": [
    "def Q_infer(agent, Env, graph, K):\n",
    "    Seed = []\n",
    "    for i in range(K):\n",
    "        action = agent.choose_action(graph)\n",
    "        Seed.append(action)\n",
    "        graph.node_tag[action] = 1\n",
    "        \n",
    "    return Seed"
   ]
  },
  {
   "cell_type": "code",
   "execution_count": 162,
   "metadata": {},
   "outputs": [],
   "source": [
    "def IMM_infer(edge_index, edge_w, K):\n",
    "    import os\n",
    "    import time\n",
    "    G = nx.DiGraph()\n",
    "    G.add_edges_from(edge_index.T)\n",
    "    with open(\".imm_cache/attribute.txt\", \"w\") as f:\n",
    "        f.writelines(\"n={}\\nm={}\".format(G.number_of_nodes(), G.number_of_edges()))\n",
    "    with open(\".imm_cache/graph_ic.inf\", \"w\") as f:\n",
    "        for edge, weight in zip(edge_index.T, edge_w):\n",
    "            f.writelines(\"{} {} {:.3f}\\n\".format(edge[0], edge[1], weight))\n",
    "    \n",
    "    t0 = time.time()\n",
    "    imm_red = os.popen(\"./IMM/imm_discrete -dataset .imm_cache/ -k {} -model IC -epsilon 0.1\".format(K))\n",
    "    # print(\"{:.1f}ms\".format((time.time()-t0)*1000))\n",
    "    \n",
    "    Seed = []\n",
    "    Spread = 0\n",
    "    for line in imm_red:\n",
    "        if \"opt_lower_bound\" in line:\n",
    "            Spread = float(line.split(\"=\")[1].strip())\n",
    "        if \"seedSet\" in line:\n",
    "            seed_set = line.split(\"=\")[1].strip().split(\" \")\n",
    "            Seed = [int(s) for s in seed_set]\n",
    "    \n",
    "    return Seed, Spread"
   ]
  },
  {
   "cell_type": "markdown",
   "metadata": {},
   "source": [
    "### 测试1， 相同大小的网络"
   ]
  },
  {
   "cell_type": "code",
   "execution_count": 165,
   "metadata": {},
   "outputs": [],
   "source": [
    "import matplotlib.pyplot as plt"
   ]
  },
  {
   "cell_type": "code",
   "execution_count": 166,
   "metadata": {
    "scrolled": true
   },
   "outputs": [
    {
     "name": "stderr",
     "output_type": "stream",
     "text": [
      "100%|██████████| 500/500 [01:05<00:00,  7.69it/s]\n",
      "100%|██████████| 500/500 [01:04<00:00,  7.76it/s]\n"
     ]
    },
    {
     "name": "stdout",
     "output_type": "stream",
     "text": [
      "550.572 548.062\n"
     ]
    },
    {
     "name": "stderr",
     "output_type": "stream",
     "text": [
      "100%|██████████| 500/500 [01:00<00:00,  8.20it/s]\n",
      "100%|██████████| 500/500 [01:01<00:00,  8.12it/s]\n"
     ]
    },
    {
     "name": "stdout",
     "output_type": "stream",
     "text": [
      "591.852 582.752\n"
     ]
    },
    {
     "name": "stderr",
     "output_type": "stream",
     "text": [
      "100%|██████████| 500/500 [00:59<00:00,  8.40it/s]\n",
      "100%|██████████| 500/500 [00:59<00:00,  8.46it/s]\n"
     ]
    },
    {
     "name": "stdout",
     "output_type": "stream",
     "text": [
      "609.156 601.05\n"
     ]
    },
    {
     "name": "stderr",
     "output_type": "stream",
     "text": [
      "100%|██████████| 500/500 [00:58<00:00,  8.48it/s]\n",
      "100%|██████████| 500/500 [00:57<00:00,  8.66it/s]\n"
     ]
    },
    {
     "name": "stdout",
     "output_type": "stream",
     "text": [
      "629.682 611.602\n"
     ]
    },
    {
     "name": "stderr",
     "output_type": "stream",
     "text": [
      "100%|██████████| 500/500 [00:57<00:00,  8.72it/s]\n",
      "100%|██████████| 500/500 [00:58<00:00,  8.59it/s]\n"
     ]
    },
    {
     "name": "stdout",
     "output_type": "stream",
     "text": [
      "643.93 619.778\n"
     ]
    },
    {
     "name": "stderr",
     "output_type": "stream",
     "text": [
      "100%|██████████| 500/500 [00:57<00:00,  8.76it/s]\n",
      "100%|██████████| 500/500 [00:56<00:00,  8.87it/s]\n"
     ]
    },
    {
     "name": "stdout",
     "output_type": "stream",
     "text": [
      "658.102 630.432\n"
     ]
    },
    {
     "name": "stderr",
     "output_type": "stream",
     "text": [
      "100%|██████████| 500/500 [00:57<00:00,  8.75it/s]\n",
      "100%|██████████| 500/500 [00:55<00:00,  8.95it/s]\n"
     ]
    },
    {
     "name": "stdout",
     "output_type": "stream",
     "text": [
      "669.188 633.948\n"
     ]
    },
    {
     "name": "stderr",
     "output_type": "stream",
     "text": [
      "100%|██████████| 500/500 [00:56<00:00,  8.92it/s]\n",
      "100%|██████████| 500/500 [00:56<00:00,  8.85it/s]\n"
     ]
    },
    {
     "name": "stdout",
     "output_type": "stream",
     "text": [
      "681.984 641.876\n"
     ]
    },
    {
     "name": "stderr",
     "output_type": "stream",
     "text": [
      "100%|██████████| 500/500 [00:56<00:00,  8.87it/s]\n",
      "100%|██████████| 500/500 [00:55<00:00,  9.07it/s]\n"
     ]
    },
    {
     "name": "stdout",
     "output_type": "stream",
     "text": [
      "695.39 652.194\n"
     ]
    },
    {
     "name": "stderr",
     "output_type": "stream",
     "text": [
      "100%|██████████| 500/500 [00:56<00:00,  8.86it/s]\n",
      "100%|██████████| 500/500 [00:56<00:00,  8.91it/s]\n"
     ]
    },
    {
     "name": "stdout",
     "output_type": "stream",
     "text": [
      "704.976 653.61\n"
     ]
    },
    {
     "data": {
      "image/png": "[encoded data removed]",
      "text/plain": [
       "<Figure size 432x288 with 1 Axes>"
      ]
     },
     "metadata": {
      "needs_background": "light"
     },
     "output_type": "display_data"
    }
   ],
   "source": [
    "# ER graph\n",
    "n = 1000\n",
    "# p = np.log(n)/n\n",
    "p = 0.01\n",
    "weight=0.15\n",
    "Env = env(graph_size=n, seed_size=n, p=p, weight=0.15)\n",
    "\n",
    "mu, edge_index, edge_w, node_tag, done = Env.reset()\n",
    "graph = Data(edge_index = torch.LongTensor(edge_index),\n",
    "             mu = torch.Tensor(mu),\n",
    "             edge_w = torch.Tensor(edge_w),\n",
    "             node_tag = torch.Tensor(node_tag),\n",
    "             num_nodes = n)\n",
    "\n",
    "IMM_K = []\n",
    "Q_K = []\n",
    "K_range = range(2, 101, 10)\n",
    "for K in K_range:\n",
    "    imm_seed, imm_spread = IMM_infer(edge_index, edge_w, K=K)\n",
    "    q_seed = Q_infer(agent, Env, graph, K=K)\n",
    "\n",
    "    imm_simu = simulation(edge_index, edge_w, imm_seed, mc=500)\n",
    "    q_simu = simulation(edge_index, edge_w, q_seed, mc=500)\n",
    "    print(imm_simu, q_simu)\n",
    "    \n",
    "    IMM_K.append((imm_seed, imm_simu))\n",
    "    Q_K.append((q_seed, q_simu))\n",
    "    \n",
    "\n",
    "plt.plot(K_range, [s[1] for s in IMM_K], \"-*\")\n",
    "plt.plot(K_range, [s[1] for s in Q_K], \"-*\")\n",
    "plt.grid(True)\n",
    "plt.title(\"n={}, p={:.3f}, weight={:.3f}\".format(n,p, weight))\n",
    "plt.savefig(\"comparing_results/n_{}_p_{:.3f}_w_{:.3f}.pdf\".format(n, p, weight))\n",
    "plt.show()"
   ]
  },
  {
   "cell_type": "code",
   "execution_count": 167,
   "metadata": {
    "scrolled": true
   },
   "outputs": [
    {
     "name": "stderr",
     "output_type": "stream",
     "text": [
      "100%|██████████| 500/500 [00:11<00:00, 44.13it/s]\n",
      "100%|██████████| 500/500 [00:10<00:00, 47.16it/s]\n"
     ]
    },
    {
     "name": "stdout",
     "output_type": "stream",
     "text": [
      "15.414 16.078\n"
     ]
    },
    {
     "name": "stderr",
     "output_type": "stream",
     "text": [
      "100%|██████████| 500/500 [00:12<00:00, 39.26it/s]\n",
      "100%|██████████| 500/500 [00:12<00:00, 40.91it/s]\n"
     ]
    },
    {
     "name": "stdout",
     "output_type": "stream",
     "text": [
      "66.394 61.39\n"
     ]
    },
    {
     "name": "stderr",
     "output_type": "stream",
     "text": [
      "100%|██████████| 500/500 [00:13<00:00, 37.88it/s]\n",
      "100%|██████████| 500/500 [00:12<00:00, 38.71it/s]\n"
     ]
    },
    {
     "name": "stdout",
     "output_type": "stream",
     "text": [
      "103.67 92.892\n"
     ]
    },
    {
     "name": "stderr",
     "output_type": "stream",
     "text": [
      "100%|██████████| 500/500 [00:13<00:00, 36.14it/s]\n",
      "100%|██████████| 500/500 [00:12<00:00, 40.01it/s]\n"
     ]
    },
    {
     "name": "stdout",
     "output_type": "stream",
     "text": [
      "131.666 106.958\n"
     ]
    },
    {
     "name": "stderr",
     "output_type": "stream",
     "text": [
      "100%|██████████| 500/500 [00:14<00:00, 35.71it/s]\n",
      "100%|██████████| 500/500 [00:13<00:00, 37.47it/s]\n"
     ]
    },
    {
     "name": "stdout",
     "output_type": "stream",
     "text": [
      "156.864 127.11\n"
     ]
    },
    {
     "name": "stderr",
     "output_type": "stream",
     "text": [
      "100%|██████████| 500/500 [00:13<00:00, 35.82it/s]\n",
      "100%|██████████| 500/500 [00:12<00:00, 38.98it/s]\n"
     ]
    },
    {
     "name": "stdout",
     "output_type": "stream",
     "text": [
      "175.762 137.228\n"
     ]
    },
    {
     "name": "stderr",
     "output_type": "stream",
     "text": [
      "100%|██████████| 500/500 [00:14<00:00, 34.24it/s]\n",
      "100%|██████████| 500/500 [00:13<00:00, 37.27it/s]\n"
     ]
    },
    {
     "name": "stdout",
     "output_type": "stream",
     "text": [
      "195.944 147.566\n"
     ]
    },
    {
     "name": "stderr",
     "output_type": "stream",
     "text": [
      "100%|██████████| 500/500 [00:14<00:00, 35.65it/s]\n",
      "100%|██████████| 500/500 [00:13<00:00, 37.71it/s]\n"
     ]
    },
    {
     "name": "stdout",
     "output_type": "stream",
     "text": [
      "211.522 155.678\n"
     ]
    },
    {
     "name": "stderr",
     "output_type": "stream",
     "text": [
      "100%|██████████| 500/500 [00:14<00:00, 34.34it/s]\n",
      "100%|██████████| 500/500 [00:12<00:00, 39.02it/s]\n"
     ]
    },
    {
     "name": "stdout",
     "output_type": "stream",
     "text": [
      "226.778 160.322\n"
     ]
    },
    {
     "name": "stderr",
     "output_type": "stream",
     "text": [
      "100%|██████████| 500/500 [00:13<00:00, 35.76it/s]\n",
      "100%|██████████| 500/500 [00:12<00:00, 40.59it/s]\n"
     ]
    },
    {
     "name": "stdout",
     "output_type": "stream",
     "text": [
      "241.376 149.702\n"
     ]
    },
    {
     "data": {
      "image/png": "[encoded data removed]",
      "text/plain": [
       "<Figure size 432x288 with 1 Axes>"
      ]
     },
     "metadata": {
      "needs_background": "light"
     },
     "output_type": "display_data"
    }
   ],
   "source": [
    "# ER graph\n",
    "n = 500\n",
    "# p = np.log(n)/n\n",
    "p = 0.01\n",
    "weight=0.15\n",
    "Env = env(graph_size=n, seed_size=n, p=p, weight=weight)\n",
    "\n",
    "mu, edge_index, edge_w, node_tag, done = Env.reset()\n",
    "graph = Data(edge_index = torch.LongTensor(edge_index),\n",
    "             mu = torch.Tensor(mu),\n",
    "             edge_w = torch.Tensor(edge_w),\n",
    "             node_tag = torch.Tensor(node_tag),\n",
    "             num_nodes = n)\n",
    "\n",
    "IMM_K = []\n",
    "Q_K = []\n",
    "K_range = range(2, 101, 10)\n",
    "for K in K_range:\n",
    "    imm_seed, imm_spread = IMM_infer(edge_index, edge_w, K=K)\n",
    "    q_seed = Q_infer(agent, Env, graph, K=K)\n",
    "\n",
    "    imm_simu = simulation(edge_index, edge_w, imm_seed, mc=500)\n",
    "    q_simu = simulation(edge_index, edge_w, q_seed, mc=500)\n",
    "    print(imm_simu, q_simu)\n",
    "    \n",
    "    IMM_K.append((imm_seed, imm_simu))\n",
    "    Q_K.append((q_seed, q_simu))\n",
    "    \n",
    "plt.plot(K_range, [s[1] for s in IMM_K], \"-*\")\n",
    "plt.plot(K_range, [s[1] for s in Q_K], \"-*\")\n",
    "plt.grid(True)\n",
    "plt.title(\"n={}, p={:.3f}, weight={:.3f}\".format(n,p, weight))\n",
    "plt.savefig(\"comparing_results/n_{}_p_{:.3f}_w_{:.3f}.pdf\".format(n, p, weight))\n",
    "plt.show()"
   ]
  },
  {
   "cell_type": "code",
   "execution_count": 164,
   "metadata": {
    "scrolled": true
   },
   "outputs": [
    {
     "name": "stderr",
     "output_type": "stream",
     "text": [
      "100%|██████████| 500/500 [00:14<00:00, 33.48it/s]\n",
      "100%|██████████| 500/500 [00:15<00:00, 33.04it/s]\n"
     ]
    },
    {
     "name": "stdout",
     "output_type": "stream",
     "text": [
      "34.918 33.564\n"
     ]
    },
    {
     "name": "stderr",
     "output_type": "stream",
     "text": [
      "100%|██████████| 500/500 [00:18<00:00, 26.58it/s]\n",
      "100%|██████████| 500/500 [00:18<00:00, 27.65it/s]\n"
     ]
    },
    {
     "name": "stdout",
     "output_type": "stream",
     "text": [
      "114.878 103.394\n"
     ]
    },
    {
     "name": "stderr",
     "output_type": "stream",
     "text": [
      "100%|██████████| 500/500 [00:17<00:00, 28.32it/s]\n",
      "100%|██████████| 500/500 [00:17<00:00, 28.80it/s]\n"
     ]
    },
    {
     "name": "stdout",
     "output_type": "stream",
     "text": [
      "155.662 138.83\n"
     ]
    },
    {
     "name": "stderr",
     "output_type": "stream",
     "text": [
      "100%|██████████| 500/500 [00:17<00:00, 28.34it/s]\n",
      "100%|██████████| 500/500 [00:18<00:00, 27.55it/s]\n"
     ]
    },
    {
     "name": "stdout",
     "output_type": "stream",
     "text": [
      "181.094 163.576\n"
     ]
    },
    {
     "name": "stderr",
     "output_type": "stream",
     "text": [
      "100%|██████████| 500/500 [00:17<00:00, 29.05it/s]\n",
      "100%|██████████| 500/500 [00:17<00:00, 28.45it/s]\n"
     ]
    },
    {
     "name": "stdout",
     "output_type": "stream",
     "text": [
      "205.926 185.056\n"
     ]
    },
    {
     "name": "stderr",
     "output_type": "stream",
     "text": [
      "100%|██████████| 500/500 [00:18<00:00, 27.24it/s]\n",
      "100%|██████████| 500/500 [00:18<00:00, 26.94it/s]\n"
     ]
    },
    {
     "name": "stdout",
     "output_type": "stream",
     "text": [
      "226.68 189.78\n"
     ]
    },
    {
     "name": "stderr",
     "output_type": "stream",
     "text": [
      "100%|██████████| 500/500 [00:20<00:00, 24.50it/s]\n",
      "100%|██████████| 500/500 [00:18<00:00, 27.65it/s]\n"
     ]
    },
    {
     "name": "stdout",
     "output_type": "stream",
     "text": [
      "243.822 199.738\n"
     ]
    },
    {
     "name": "stderr",
     "output_type": "stream",
     "text": [
      "100%|██████████| 500/500 [00:17<00:00, 29.15it/s]\n",
      "100%|██████████| 500/500 [00:17<00:00, 29.29it/s]\n"
     ]
    },
    {
     "name": "stdout",
     "output_type": "stream",
     "text": [
      "257.596 211.364\n"
     ]
    },
    {
     "name": "stderr",
     "output_type": "stream",
     "text": [
      "100%|██████████| 500/500 [00:17<00:00, 28.15it/s]\n",
      "100%|██████████| 500/500 [00:17<00:00, 28.36it/s]\n"
     ]
    },
    {
     "name": "stdout",
     "output_type": "stream",
     "text": [
      "272.178 213.332\n"
     ]
    },
    {
     "name": "stderr",
     "output_type": "stream",
     "text": [
      "100%|██████████| 500/500 [00:17<00:00, 28.33it/s]\n",
      "100%|██████████| 500/500 [00:17<00:00, 28.75it/s]\n"
     ]
    },
    {
     "name": "stdout",
     "output_type": "stream",
     "text": [
      "286.418 210.22\n"
     ]
    },
    {
     "data": {
      "image/png": "[encoded data removed]",
      "text/plain": [
       "<Figure size 432x288 with 1 Axes>"
      ]
     },
     "metadata": {
      "needs_background": "light"
     },
     "output_type": "display_data"
    }
   ],
   "source": [
    "# ER graph\n",
    "n = 500\n",
    "p = np.log(n)/n\n",
    "# p = 0.01\n",
    "weight=0.15\n",
    "Env = env(graph_size=n, seed_size=n, p=p, weight=weight)\n",
    "\n",
    "mu, edge_index, edge_w, node_tag, done = Env.reset()\n",
    "graph = Data(edge_index = torch.LongTensor(edge_index),\n",
    "             mu = torch.Tensor(mu),\n",
    "             edge_w = torch.Tensor(edge_w),\n",
    "             node_tag = torch.Tensor(node_tag),\n",
    "             num_nodes = n)\n",
    "\n",
    "IMM_K = []\n",
    "Q_K = []\n",
    "K_range = range(2, 101, 10)\n",
    "for K in K_range:\n",
    "    imm_seed, imm_spread = IMM_infer(edge_index, edge_w, K=K)\n",
    "    q_seed = Q_infer(agent, Env, graph, K=K)\n",
    "\n",
    "    imm_simu = simulation(edge_index, edge_w, imm_seed, mc=500)\n",
    "    q_simu = simulation(edge_index, edge_w, q_seed, mc=500)\n",
    "    print(imm_simu, q_simu)\n",
    "    \n",
    "    IMM_K.append((imm_seed, imm_simu))\n",
    "    Q_K.append((q_seed, q_simu))\n",
    "\n",
    "plt.plot(K_range, [s[1] for s in IMM_K], \"-*\")\n",
    "plt.plot(K_range, [s[1] for s in Q_K], \"-*\")\n",
    "plt.grid(True)\n",
    "plt.title(\"n={}, p={:.3f}, weight={:.3f}\".format(n,p, weight))\n",
    "plt.savefig(\"comparing_results/n_{}_p_{:.3f}_w_{:.3f}.pdf\".format(n, p, weight))\n",
    "plt.show()"
   ]
  },
  {
   "cell_type": "code",
   "execution_count": 168,
   "metadata": {
    "scrolled": true
   },
   "outputs": [
    {
     "name": "stderr",
     "output_type": "stream",
     "text": [
      "100%|██████████| 500/500 [00:13<00:00, 36.67it/s]\n",
      "100%|██████████| 500/500 [00:13<00:00, 37.06it/s]\n"
     ]
    },
    {
     "name": "stdout",
     "output_type": "stream",
     "text": [
      "19.582 17.678\n"
     ]
    },
    {
     "name": "stderr",
     "output_type": "stream",
     "text": [
      "100%|██████████| 500/500 [00:15<00:00, 33.19it/s]\n",
      "100%|██████████| 500/500 [00:16<00:00, 31.05it/s]\n"
     ]
    },
    {
     "name": "stdout",
     "output_type": "stream",
     "text": [
      "42.832 39.288\n"
     ]
    },
    {
     "name": "stderr",
     "output_type": "stream",
     "text": [
      "100%|██████████| 500/500 [00:16<00:00, 31.13it/s]\n",
      "100%|██████████| 500/500 [00:15<00:00, 32.25it/s]\n"
     ]
    },
    {
     "name": "stdout",
     "output_type": "stream",
     "text": [
      "61.662 56.72\n"
     ]
    },
    {
     "name": "stderr",
     "output_type": "stream",
     "text": [
      "100%|██████████| 500/500 [00:15<00:00, 32.03it/s]\n",
      "100%|██████████| 500/500 [00:15<00:00, 31.89it/s]\n"
     ]
    },
    {
     "name": "stdout",
     "output_type": "stream",
     "text": [
      "75.612 65.528\n"
     ]
    },
    {
     "name": "stderr",
     "output_type": "stream",
     "text": [
      "100%|██████████| 500/500 [00:16<00:00, 30.37it/s]\n",
      "100%|██████████| 500/500 [00:15<00:00, 31.75it/s]\n"
     ]
    },
    {
     "name": "stdout",
     "output_type": "stream",
     "text": [
      "92.004 75.242\n"
     ]
    },
    {
     "name": "stderr",
     "output_type": "stream",
     "text": [
      "100%|██████████| 500/500 [00:16<00:00, 30.07it/s]\n",
      "100%|██████████| 500/500 [00:16<00:00, 31.03it/s]\n"
     ]
    },
    {
     "name": "stdout",
     "output_type": "stream",
     "text": [
      "101.51 83.858\n"
     ]
    },
    {
     "name": "stderr",
     "output_type": "stream",
     "text": [
      "100%|██████████| 500/500 [00:16<00:00, 29.62it/s]\n",
      "100%|██████████| 500/500 [00:16<00:00, 30.48it/s]\n"
     ]
    },
    {
     "name": "stdout",
     "output_type": "stream",
     "text": [
      "111.546 96.902\n"
     ]
    },
    {
     "name": "stderr",
     "output_type": "stream",
     "text": [
      "100%|██████████| 500/500 [00:17<00:00, 29.06it/s]\n",
      "100%|██████████| 500/500 [00:16<00:00, 29.85it/s]\n"
     ]
    },
    {
     "name": "stdout",
     "output_type": "stream",
     "text": [
      "117.832 99.942\n"
     ]
    },
    {
     "name": "stderr",
     "output_type": "stream",
     "text": [
      "100%|██████████| 500/500 [00:17<00:00, 29.26it/s]\n",
      "100%|██████████| 500/500 [00:16<00:00, 30.54it/s]\n"
     ]
    },
    {
     "name": "stdout",
     "output_type": "stream",
     "text": [
      "129.85 103.496\n"
     ]
    },
    {
     "name": "stderr",
     "output_type": "stream",
     "text": [
      "100%|██████████| 500/500 [00:16<00:00, 29.85it/s]\n",
      "100%|██████████| 500/500 [00:16<00:00, 30.04it/s]\n"
     ]
    },
    {
     "name": "stdout",
     "output_type": "stream",
     "text": [
      "134.71 105.946\n"
     ]
    },
    {
     "data": {
      "image/png": "[encoded data removed]",
      "text/plain": [
       "<Figure size 432x288 with 1 Axes>"
      ]
     },
     "metadata": {
      "needs_background": "light"
     },
     "output_type": "display_data"
    }
   ],
   "source": [
    "# ER graph\n",
    "n = 500\n",
    "p = np.log(n)/n\n",
    "# p = 0.01\n",
    "weight=0.15\n",
    "Env = env(graph_size=n, seed_size=n, p=p, weight=weight)\n",
    "\n",
    "mu, edge_index, edge_w, node_tag, done = Env.reset()\n",
    "graph = Data(edge_index = torch.LongTensor(edge_index),\n",
    "             mu = torch.Tensor(mu),\n",
    "             edge_w = torch.Tensor(edge_w),\n",
    "             node_tag = torch.Tensor(node_tag),\n",
    "             num_nodes = n)\n",
    "\n",
    "IMM_K = []\n",
    "Q_K = []\n",
    "K_range = range(1, 21, 2)\n",
    "for K in K_range:\n",
    "    imm_seed, imm_spread = IMM_infer(edge_index, edge_w, K=K)\n",
    "    q_seed = Q_infer(agent, Env, graph, K=K)\n",
    "\n",
    "    imm_simu = simulation(edge_index, edge_w, imm_seed, mc=500)\n",
    "    q_simu = simulation(edge_index, edge_w, q_seed, mc=500)\n",
    "    print(imm_simu, q_simu)\n",
    "    \n",
    "    IMM_K.append((imm_seed, imm_simu))\n",
    "    Q_K.append((q_seed, q_simu))\n",
    "    \n",
    "plt.plot(K_range, [s[1] for s in IMM_K], \"-*\")\n",
    "plt.plot(K_range, [s[1] for s in Q_K], \"-*\")\n",
    "plt.grid(True)\n",
    "plt.title(\"n={}, p={:.3f}, weight={:.3f}\".format(n,p, weight))\n",
    "plt.savefig(\"comparing_results/n_{}_p_{:.3f}_w_{:.3f}.pdf\".format(n, p, weight))\n",
    "plt.show()"
   ]
  },
  {
   "cell_type": "code",
   "execution_count": 169,
   "metadata": {
    "scrolled": true
   },
   "outputs": [
    {
     "name": "stderr",
     "output_type": "stream",
     "text": [
      "100%|██████████| 500/500 [00:10<00:00, 46.45it/s]\n",
      "100%|██████████| 500/500 [00:10<00:00, 48.39it/s]\n"
     ]
    },
    {
     "name": "stdout",
     "output_type": "stream",
     "text": [
      "9.122 9.578\n"
     ]
    },
    {
     "name": "stderr",
     "output_type": "stream",
     "text": [
      "100%|██████████| 500/500 [00:11<00:00, 42.79it/s]\n",
      "100%|██████████| 500/500 [00:11<00:00, 43.68it/s]\n"
     ]
    },
    {
     "name": "stdout",
     "output_type": "stream",
     "text": [
      "24.442 23.412\n"
     ]
    },
    {
     "name": "stderr",
     "output_type": "stream",
     "text": [
      "100%|██████████| 500/500 [00:12<00:00, 40.84it/s]\n",
      "100%|██████████| 500/500 [00:12<00:00, 41.36it/s]\n"
     ]
    },
    {
     "name": "stdout",
     "output_type": "stream",
     "text": [
      "36.978 34.84\n"
     ]
    },
    {
     "name": "stderr",
     "output_type": "stream",
     "text": [
      "100%|██████████| 500/500 [00:13<00:00, 38.35it/s]\n",
      "100%|██████████| 500/500 [00:12<00:00, 40.41it/s]\n"
     ]
    },
    {
     "name": "stdout",
     "output_type": "stream",
     "text": [
      "47.434 38.45\n"
     ]
    },
    {
     "name": "stderr",
     "output_type": "stream",
     "text": [
      "100%|██████████| 500/500 [00:13<00:00, 38.23it/s]\n",
      "100%|██████████| 500/500 [00:12<00:00, 40.34it/s]\n"
     ]
    },
    {
     "name": "stdout",
     "output_type": "stream",
     "text": [
      "56.236 47.756\n"
     ]
    },
    {
     "name": "stderr",
     "output_type": "stream",
     "text": [
      "100%|██████████| 500/500 [00:13<00:00, 38.30it/s]\n",
      "100%|██████████| 500/500 [00:12<00:00, 40.60it/s]\n"
     ]
    },
    {
     "name": "stdout",
     "output_type": "stream",
     "text": [
      "66.116 56.424\n"
     ]
    },
    {
     "name": "stderr",
     "output_type": "stream",
     "text": [
      "100%|██████████| 500/500 [00:13<00:00, 37.90it/s]\n",
      "100%|██████████| 500/500 [00:12<00:00, 39.24it/s]\n"
     ]
    },
    {
     "name": "stdout",
     "output_type": "stream",
     "text": [
      "72.29 61.076\n"
     ]
    },
    {
     "name": "stderr",
     "output_type": "stream",
     "text": [
      "100%|██████████| 500/500 [00:13<00:00, 37.90it/s]\n",
      "100%|██████████| 500/500 [00:12<00:00, 39.78it/s]\n"
     ]
    },
    {
     "name": "stdout",
     "output_type": "stream",
     "text": [
      "82.496 64.352\n"
     ]
    },
    {
     "name": "stderr",
     "output_type": "stream",
     "text": [
      "100%|██████████| 500/500 [00:13<00:00, 35.86it/s]\n",
      "100%|██████████| 500/500 [00:12<00:00, 38.94it/s]\n"
     ]
    },
    {
     "name": "stdout",
     "output_type": "stream",
     "text": [
      "88.83 71.026\n"
     ]
    },
    {
     "name": "stderr",
     "output_type": "stream",
     "text": [
      "100%|██████████| 500/500 [00:13<00:00, 36.99it/s]\n",
      "100%|██████████| 500/500 [00:12<00:00, 39.98it/s]\n"
     ]
    },
    {
     "name": "stdout",
     "output_type": "stream",
     "text": [
      "96.356 75.688\n"
     ]
    },
    {
     "data": {
      "image/png": "[encoded data removed]",
      "text/plain": [
       "<Figure size 432x288 with 1 Axes>"
      ]
     },
     "metadata": {
      "needs_background": "light"
     },
     "output_type": "display_data"
    }
   ],
   "source": [
    "# ER graph\n",
    "n = 500\n",
    "# p = np.log(n)/n\n",
    "p = 0.01\n",
    "weight=0.15\n",
    "Env = env(graph_size=n, seed_size=n, p=p, weight=weight)\n",
    "\n",
    "mu, edge_index, edge_w, node_tag, done = Env.reset()\n",
    "graph = Data(edge_index = torch.LongTensor(edge_index),\n",
    "             mu = torch.Tensor(mu),\n",
    "             edge_w = torch.Tensor(edge_w),\n",
    "             node_tag = torch.Tensor(node_tag),\n",
    "             num_nodes = n)\n",
    "\n",
    "IMM_K = []\n",
    "Q_K = []\n",
    "K_range = range(1, 21, 2)\n",
    "for K in K_range:\n",
    "    imm_seed, imm_spread = IMM_infer(edge_index, edge_w, K=K)\n",
    "    q_seed = Q_infer(agent, Env, graph, K=K)\n",
    "\n",
    "    imm_simu = simulation(edge_index, edge_w, imm_seed, mc=500)\n",
    "    q_simu = simulation(edge_index, edge_w, q_seed, mc=500)\n",
    "    print(imm_simu, q_simu)\n",
    "    \n",
    "    IMM_K.append((imm_seed, imm_simu))\n",
    "    Q_K.append((q_seed, q_simu))\n",
    "    \n",
    "plt.plot(K_range, [s[1] for s in IMM_K], \"-*\")\n",
    "plt.plot(K_range, [s[1] for s in Q_K], \"-*\")\n",
    "plt.grid(True)\n",
    "plt.title(\"n={}, p={:.3f}, weight={:.3f}\".format(n,p, weight))\n",
    "plt.savefig(\"comparing_results/n_{}_p_{:.3f}_w_{:.3f}.pdf\".format(n, p, weight))\n",
    "plt.show()\n",
    "\n"
   ]
  },
  {
   "cell_type": "code",
   "execution_count": 178,
   "metadata": {},
   "outputs": [
    {
     "name": "stderr",
     "output_type": "stream",
     "text": [
      "Process ForkPoolWorker-1:\n",
      "Traceback (most recent call last):\n",
      "  File \"/home/gaofei/software/anaconda3/envs/dmp_dqn/lib/python3.6/multiprocessing/process.py\", line 258, in _bootstrap\n",
      "    self.run()\n",
      "Process ForkPoolWorker-2:\n",
      "  File \"/home/gaofei/software/anaconda3/envs/dmp_dqn/lib/python3.6/multiprocessing/process.py\", line 93, in run\n",
      "    self._target(*self._args, **self._kwargs)\n",
      "Traceback (most recent call last):\n",
      "  File \"/home/gaofei/software/anaconda3/envs/dmp_dqn/lib/python3.6/multiprocessing/pool.py\", line 108, in worker\n",
      "    task = get()\n",
      "  File \"/home/gaofei/software/anaconda3/envs/dmp_dqn/lib/python3.6/multiprocessing/queues.py\", line 335, in get\n",
      "    res = self._reader.recv_bytes()\n",
      "  File \"/home/gaofei/software/anaconda3/envs/dmp_dqn/lib/python3.6/multiprocessing/connection.py\", line 216, in recv_bytes\n",
      "    buf = self._recv_bytes(maxlength)\n",
      "  File \"/home/gaofei/software/anaconda3/envs/dmp_dqn/lib/python3.6/multiprocessing/connection.py\", line 407, in _recv_bytes\n",
      "    buf = self._recv(4)\n",
      "  File \"/home/gaofei/software/anaconda3/envs/dmp_dqn/lib/python3.6/multiprocessing/process.py\", line 258, in _bootstrap\n",
      "    self.run()\n",
      "  File \"/home/gaofei/software/anaconda3/envs/dmp_dqn/lib/python3.6/multiprocessing/connection.py\", line 379, in _recv\n",
      "    chunk = read(handle, remaining)\n",
      "  File \"/home/gaofei/software/anaconda3/envs/dmp_dqn/lib/python3.6/multiprocessing/process.py\", line 93, in run\n",
      "    self._target(*self._args, **self._kwargs)\n",
      "KeyboardInterrupt\n",
      "  File \"/home/gaofei/software/anaconda3/envs/dmp_dqn/lib/python3.6/multiprocessing/pool.py\", line 108, in worker\n",
      "    task = get()\n",
      "  File \"/home/gaofei/software/anaconda3/envs/dmp_dqn/lib/python3.6/multiprocessing/queues.py\", line 334, in get\n",
      "    with self._rlock:\n",
      "  File \"/home/gaofei/software/anaconda3/envs/dmp_dqn/lib/python3.6/multiprocessing/synchronize.py\", line 95, in __enter__\n",
      "    return self._semlock.__enter__()\n",
      "KeyboardInterrupt\n"
     ]
    }
   ],
   "source": [
    "from multiprocessing import Pool\n",
    "pool = Pool(2)"
   ]
  },
  {
   "cell_type": "code",
   "execution_count": 202,
   "metadata": {
    "scrolled": false
   },
   "outputs": [
    {
     "name": "stderr",
     "output_type": "stream",
     "text": [
      "100%|██████████| 500/500 [00:16<00:00, 29.50it/s]\n",
      "100%|██████████| 500/500 [00:16<00:00, 30.68it/s]\n"
     ]
    },
    {
     "name": "stdout",
     "output_type": "stream",
     "text": [
      "159.62 138.242\n"
     ]
    },
    {
     "name": "stderr",
     "output_type": "stream",
     "text": [
      "100%|██████████| 500/500 [00:17<00:00, 29.13it/s]\n",
      "100%|██████████| 500/500 [00:16<00:00, 29.88it/s]\n"
     ]
    },
    {
     "name": "stdout",
     "output_type": "stream",
     "text": [
      "220.292 196.272\n"
     ]
    },
    {
     "name": "stderr",
     "output_type": "stream",
     "text": [
      "100%|██████████| 500/500 [00:17<00:00, 29.23it/s]\n",
      "100%|██████████| 500/500 [00:16<00:00, 29.58it/s]\n"
     ]
    },
    {
     "name": "stdout",
     "output_type": "stream",
     "text": [
      "262.85 219.914\n"
     ]
    },
    {
     "name": "stderr",
     "output_type": "stream",
     "text": [
      "100%|██████████| 500/500 [00:17<00:00, 29.15it/s]\n",
      "100%|██████████| 500/500 [00:16<00:00, 30.35it/s]\n"
     ]
    },
    {
     "name": "stdout",
     "output_type": "stream",
     "text": [
      "294.992 248.14\n"
     ]
    },
    {
     "data": {
      "image/png": "[encoded data removed]",
      "text/plain": [
       "<Figure size 432x288 with 1 Axes>"
      ]
     },
     "metadata": {
      "needs_background": "light"
     },
     "output_type": "display_data"
    }
   ],
   "source": [
    "# ER graph\n",
    "n = 500\n",
    "p = np.log(n)/n\n",
    "# p = 0.05\n",
    "weight=0.15\n",
    "Env = env(graph_size=n, seed_size=n, p=p, weight=weight)\n",
    "\n",
    "mu, edge_index, edge_w, node_tag, done = Env.reset()\n",
    "graph = Data(edge_index = torch.LongTensor(edge_index),\n",
    "             mu = torch.Tensor(mu),\n",
    "             edge_w = torch.Tensor(edge_w),\n",
    "             node_tag = torch.Tensor(node_tag),\n",
    "             num_nodes = n)\n",
    "\n",
    "\n",
    "IMM_K = []\n",
    "Q_K = []\n",
    "K_range = [25, 50, 75, 100]\n",
    "for K in K_range:\n",
    "    imm_seed, imm_spread = IMM_infer(edge_index, edge_w, K=K)\n",
    "    q_seed = Q_infer(agent, Env, graph, K=K)\n",
    "\n",
    "    imm_simu = simulation(edge_index, edge_w, imm_seed, mc=500)\n",
    "    q_simu = simulation(edge_index, edge_w, q_seed, mc=500)\n",
    "    print(imm_simu, q_simu)\n",
    "    \n",
    "    IMM_K.append((imm_seed, imm_simu))\n",
    "    Q_K.append((q_seed, q_simu))\n",
    "    \n",
    "plt.plot(K_range, [s[1] for s in IMM_K], \"-*\")\n",
    "plt.plot(K_range, [s[1] for s in Q_K], \"-*\")\n",
    "plt.grid(True)\n",
    "plt.title(\"n={}, p={:.3f}, weight={:.3f}\".format(n,p, weight))\n",
    "plt.savefig(\"comparing_results/n_{}_p_{:.3f}_w_{:.3f}.pdf\".format(n, p, weight))\n",
    "plt.show()"
   ]
  },
  {
   "cell_type": "code",
   "execution_count": null,
   "metadata": {},
   "outputs": [],
   "source": []
  }
 ],
 "metadata": {
  "kernelspec": {
   "display_name": "Python 3",
   "language": "python",
   "name": "python3"
  },
  "language_info": {
   "codemirror_mode": {
    "name": "ipython",
    "version": 3
   },
   "file_extension": ".py",
   "mimetype": "text/x-python",
   "name": "python",
   "nbconvert_exporter": "python",
   "pygments_lexer": "ipython3",
   "version": "3.6.12"
  }
 },
 "nbformat": 4,
 "nbformat_minor": 4
}
