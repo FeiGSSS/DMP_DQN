{
 "cells": [
  {
   "cell_type": "code",
   "execution_count": 20,
   "metadata": {},
   "outputs": [],
   "source": [
    "import networkx as nx\n",
    "import numpy as np"
   ]
  },
  {
   "cell_type": "code",
   "execution_count": 52,
   "metadata": {},
   "outputs": [],
   "source": [
    "def _BA(size, m):\n",
    "    G          = nx.barabasi_albert_graph(n=size, m=m)\n",
    "    # G          = G.to_directed()\n",
    "    edge_index = np.array(G.edges(), dtype=np.long).T\n",
    "    edge_w     = np.ones(G.number_of_edges(), dtype=np.float32) * 0.05\n",
    "    # TODO: random weight\n",
    "    nx.set_edge_attributes(G, {edge:w for edge, w in zip(G.edges(), edge_w)}, \"weight\")\n",
    "    weight_degree = G.out_degree(weight=\"weight\")\n",
    "    weight_degree = list(dict(weight_degree).values())\n",
    "    return edge_index, edge_w, weight_degree, G"
   ]
  },
  {
   "cell_type": "code",
   "execution_count": 58,
   "metadata": {},
   "outputs": [],
   "source": [
    "e, w, d, G = _BA(500, 3)"
   ]
  },
  {
   "cell_type": "code",
   "execution_count": 59,
   "metadata": {},
   "outputs": [],
   "source": [
    "with open(\"ba/attribute.txt\", \"w\") as f:\n",
    "    f.writelines(\"n={}\\nm={}\".format(G.number_of_nodes(), G.number_of_edges()))"
   ]
  },
  {
   "cell_type": "code",
   "execution_count": 60,
   "metadata": {},
   "outputs": [],
   "source": [
    "with open(\"ba/graph_ic.inf\", \"w\") as f:\n",
    "    for edge, weight in zip(e.T, w):\n",
    "        f.writelines(\"{} {} {:.3f}\\n\".format(edge[0], edge[1], weight))"
   ]
  },
  {
   "cell_type": "code",
   "execution_count": 61,
   "metadata": {},
   "outputs": [
    {
     "data": {
      "text/plain": [
       "DiDegreeView({0: 40, 1: 114, 2: 78, 3: 120, 4: 86, 5: 42, 6: 58, 7: 46, 8: 56, 9: 40, 10: 82, 11: 34, 12: 48, 13: 34, 14: 16, 15: 50, 16: 20, 17: 34, 18: 100, 19: 22, 20: 20, 21: 18, 22: 12, 23: 36, 24: 30, 25: 40, 26: 56, 27: 54, 28: 30, 29: 28, 30: 40, 31: 16, 32: 18, 33: 22, 34: 10, 35: 24, 36: 24, 37: 34, 38: 16, 39: 22, 40: 20, 41: 16, 42: 16, 43: 12, 44: 18, 45: 14, 46: 10, 47: 12, 48: 18, 49: 14, 50: 10, 51: 20, 52: 32, 53: 14, 54: 8, 55: 12, 56: 20, 57: 10, 58: 18, 59: 18, 60: 8, 61: 20, 62: 10, 63: 14, 64: 16, 65: 12, 66: 30, 67: 26, 68: 26, 69: 12, 70: 10, 71: 12, 72: 22, 73: 12, 74: 14, 75: 24, 76: 12, 77: 34, 78: 12, 79: 10, 80: 12, 81: 12, 82: 16, 83: 14, 84: 22, 85: 24, 86: 16, 87: 14, 88: 12, 89: 8, 90: 30, 91: 8, 92: 14, 93: 6, 94: 6, 95: 18, 96: 10, 97: 10, 98: 14, 99: 6, 100: 10, 101: 20, 102: 6, 103: 8, 104: 8, 105: 22, 106: 6, 107: 20, 108: 14, 109: 14, 110: 10, 111: 10, 112: 6, 113: 10, 114: 10, 115: 6, 116: 8, 117: 14, 118: 16, 119: 12, 120: 16, 121: 8, 122: 20, 123: 10, 124: 18, 125: 24, 126: 10, 127: 14, 128: 10, 129: 10, 130: 8, 131: 8, 132: 16, 133: 14, 134: 12, 135: 8, 136: 20, 137: 22, 138: 8, 139: 10, 140: 16, 141: 12, 142: 6, 143: 8, 144: 12, 145: 8, 146: 8, 147: 14, 148: 14, 149: 12, 150: 6, 151: 6, 152: 32, 153: 22, 154: 8, 155: 12, 156: 10, 157: 10, 158: 8, 159: 6, 160: 8, 161: 10, 162: 8, 163: 14, 164: 6, 165: 16, 166: 6, 167: 10, 168: 6, 169: 6, 170: 8, 171: 10, 172: 16, 173: 6, 174: 6, 175: 6, 176: 6, 177: 6, 178: 10, 179: 12, 180: 12, 181: 10, 182: 10, 183: 8, 184: 8, 185: 14, 186: 14, 187: 10, 188: 8, 189: 8, 190: 8, 191: 10, 192: 10, 193: 8, 194: 12, 195: 10, 196: 16, 197: 6, 198: 10, 199: 8, 200: 10, 201: 8, 202: 12, 203: 10, 204: 6, 205: 6, 206: 8, 207: 8, 208: 8, 209: 6, 210: 6, 211: 6, 212: 6, 213: 10, 214: 8, 215: 14, 216: 6, 217: 18, 218: 12, 219: 16, 220: 6, 221: 12, 222: 8, 223: 16, 224: 10, 225: 8, 226: 8, 227: 8, 228: 8, 229: 8, 230: 6, 231: 12, 232: 6, 233: 6, 234: 8, 235: 6, 236: 12, 237: 6, 238: 6, 239: 6, 240: 6, 241: 16, 242: 12, 243: 12, 244: 8, 245: 6, 246: 6, 247: 6, 248: 6, 249: 8, 250: 8, 251: 12, 252: 6, 253: 8, 254: 18, 255: 6, 256: 6, 257: 14, 258: 8, 259: 10, 260: 8, 261: 6, 262: 6, 263: 12, 264: 10, 265: 14, 266: 6, 267: 10, 268: 10, 269: 6, 270: 8, 271: 20, 272: 8, 273: 12, 274: 6, 275: 6, 276: 8, 277: 12, 278: 8, 279: 10, 280: 8, 281: 8, 282: 10, 283: 6, 284: 10, 285: 10, 286: 8, 287: 12, 288: 8, 289: 8, 290: 8, 291: 8, 292: 6, 293: 10, 294: 6, 295: 6, 296: 10, 297: 8, 298: 10, 299: 10, 300: 6, 301: 10, 302: 8, 303: 14, 304: 6, 305: 10, 306: 6, 307: 8, 308: 10, 309: 10, 310: 8, 311: 10, 312: 8, 313: 8, 314: 6, 315: 8, 316: 6, 317: 8, 318: 18, 319: 6, 320: 8, 321: 6, 322: 8, 323: 12, 324: 8, 325: 14, 326: 6, 327: 8, 328: 6, 329: 6, 330: 8, 331: 6, 332: 10, 333: 8, 334: 10, 335: 6, 336: 6, 337: 8, 338: 6, 339: 6, 340: 8, 341: 6, 342: 10, 343: 8, 344: 10, 345: 8, 346: 6, 347: 8, 348: 6, 349: 8, 350: 6, 351: 6, 352: 8, 353: 8, 354: 10, 355: 10, 356: 6, 357: 10, 358: 8, 359: 10, 360: 6, 361: 10, 362: 6, 363: 6, 364: 6, 365: 8, 366: 6, 367: 8, 368: 8, 369: 8, 370: 6, 371: 6, 372: 6, 373: 8, 374: 6, 375: 6, 376: 6, 377: 8, 378: 6, 379: 6, 380: 8, 381: 6, 382: 6, 383: 8, 384: 6, 385: 6, 386: 6, 387: 6, 388: 6, 389: 8, 390: 6, 391: 6, 392: 8, 393: 8, 394: 6, 395: 6, 396: 6, 397: 6, 398: 6, 399: 8, 400: 8, 401: 6, 402: 8, 403: 6, 404: 8, 405: 6, 406: 8, 407: 8, 408: 6, 409: 6, 410: 6, 411: 8, 412: 6, 413: 6, 414: 6, 415: 6, 416: 6, 417: 6, 418: 8, 419: 6, 420: 6, 421: 6, 422: 10, 423: 6, 424: 6, 425: 6, 426: 6, 427: 6, 428: 6, 429: 6, 430: 6, 431: 6, 432: 6, 433: 6, 434: 6, 435: 6, 436: 8, 437: 6, 438: 6, 439: 8, 440: 6, 441: 6, 442: 6, 443: 6, 444: 6, 445: 6, 446: 6, 447: 8, 448: 6, 449: 8, 450: 6, 451: 6, 452: 6, 453: 6, 454: 6, 455: 6, 456: 6, 457: 6, 458: 6, 459: 6, 460: 6, 461: 6, 462: 6, 463: 6, 464: 6, 465: 6, 466: 6, 467: 6, 468: 6, 469: 6, 470: 6, 471: 6, 472: 6, 473: 6, 474: 6, 475: 6, 476: 6, 477: 6, 478: 6, 479: 6, 480: 6, 481: 6, 482: 6, 483: 6, 484: 6, 485: 6, 486: 6, 487: 6, 488: 6, 489: 6, 490: 6, 491: 6, 492: 6, 493: 6, 494: 6, 495: 6, 496: 6, 497: 6, 498: 6, 499: 6})"
      ]
     },
     "execution_count": 61,
     "metadata": {},
     "output_type": "execute_result"
    }
   ],
   "source": [
    "nx.degree(G)"
   ]
  },
  {
   "cell_type": "code",
   "execution_count": null,
   "metadata": {},
   "outputs": [],
   "source": []
  },
  {
   "cell_type": "code",
   "execution_count": 48,
   "metadata": {},
   "outputs": [],
   "source": [
    "def _ER(n, p):\n",
    "    G          = nx.erdos_renyi_graph(n=n, p=p)\n",
    "    # G          = G.to_directed()\n",
    "    edge_index = np.array(G.edges(), dtype=np.long).T\n",
    "    edge_w     = np.ones(G.number_of_edges(), dtype=np.float32) * 0.05\n",
    "    # TODO: random weight\n",
    "    nx.set_edge_attributes(G, {edge:w for edge, w in zip(G.edges(), edge_w)}, \"weight\")\n",
    "    weight_degree = G.out_degree(weight=\"weight\")\n",
    "    weight_degree = list(dict(weight_degree).values())\n",
    "    return edge_index, edge_w, weight_degree, G"
   ]
  },
  {
   "cell_type": "code",
   "execution_count": 49,
   "metadata": {},
   "outputs": [],
   "source": [
    "e, w, d, G = _ER(500, 0.05)"
   ]
  },
  {
   "cell_type": "code",
   "execution_count": 50,
   "metadata": {},
   "outputs": [],
   "source": [
    "with open(\"er/attribute.txt\", \"w\") as f:\n",
    "    f.writelines(\"n={}\\nm={}\".format(G.number_of_nodes(), G.number_of_edges()))"
   ]
  },
  {
   "cell_type": "code",
   "execution_count": 51,
   "metadata": {},
   "outputs": [],
   "source": [
    "with open(\"er/graph_ic.inf\", \"w\") as f:\n",
    "    for edge, weight in zip(e.T, w):\n",
    "        f.writelines(\"{} {} {:.3f}\\n\".format(edge[0], edge[1], weight))"
   ]
  },
  {
   "cell_type": "code",
   "execution_count": null,
   "metadata": {},
   "outputs": [],
   "source": []
  }
 ],
 "metadata": {
  "kernelspec": {
   "display_name": "Python 3",
   "language": "python",
   "name": "python3"
  },
  "language_info": {
   "codemirror_mode": {
    "name": "ipython",
    "version": 3
   },
   "file_extension": ".py",
   "mimetype": "text/x-python",
   "name": "python",
   "nbconvert_exporter": "python",
   "pygments_lexer": "ipython3",
   "version": "3.6.12"
  }
 },
 "nbformat": 4,
 "nbformat_minor": 4
}
